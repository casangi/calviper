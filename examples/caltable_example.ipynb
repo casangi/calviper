{
 "cells": [
  {
   "cell_type": "code",
   "execution_count": 2,
   "id": "6e4714df-ebca-4a58-bb19-c2e931f168f4",
   "metadata": {},
   "outputs": [],
   "source": [
    "import toolviper\n",
    "import calviper\n",
    "\n",
    "import numpy as np\n",
    "import xarray as xr\n",
    "\n",
    "from calviper.table import CalibrationTable\n",
    "\n",
    "from xradio.measurement_set.convert_msv2_to_processing_set import convert_msv2_to_processing_set\n",
    "from xradio.measurement_set import open_processing_set"
   ]
  },
  {
   "cell_type": "code",
   "execution_count": 4,
   "id": "24a3971d-c7d5-4aef-92dc-d90bf2750498",
   "metadata": {},
   "outputs": [
    {
     "name": "stdout",
     "output_type": "stream",
     "text": [
      "[\u001B[38;2;128;05;128m2024-11-21 09:29:37,320\u001B[0m] \u001B[38;2;255;160;0m WARNING\u001B[0m\u001B[38;2;112;128;144m    viperlog: \u001B[0m File exists: \u001B[38;2;50;50;205m/export/home/ajax/jhoskins/.conda/envs/calviper/lib/python3.10/site-packages/toolviper/utils/data/.dropbox\u001B[0m \n",
      "[\u001B[38;2;128;05;128m2024-11-21 09:29:37,321\u001B[0m] \u001B[38;2;50;50;205m    INFO\u001B[0m\u001B[38;2;112;128;144m    viperlog: \u001B[0m Updating file metadata information ...  \n",
      " "
     ]
    },
    {
     "data": {
      "text/html": [
       "<pre style=\"white-space:pre;overflow-x:auto;line-height:normal;font-family:Menlo,'DejaVu Sans Mono',consolas,'Courier New',monospace\">                                    \n",
       " <span style=\"font-weight: bold\"> Download List                    </span> \n",
       " ────────────────────────────────── \n",
       "  <span style=\"color: #800080; text-decoration-color: #800080\">Antennae_North.cal.lsrk.split.ms</span>  \n",
       "                                    \n",
       "</pre>\n"
      ],
      "text/plain": [
       "                                    \n",
       " \u001B[1m \u001B[0m\u001B[1mDownload List                   \u001B[0m\u001B[1m \u001B[0m \n",
       " ────────────────────────────────── \n",
       "  \u001B[35mAntennae_North.cal.lsrk.split.ms\u001B[0m  \n",
       "                                    \n"
      ]
     },
     "metadata": {},
     "output_type": "display_data"
    },
    {
     "name": "stdout",
     "output_type": "stream",
     "text": [
      "[\u001B[38;2;128;05;128m2024-11-21 09:29:39,031\u001B[0m] \u001B[38;2;50;50;205m    INFO\u001B[0m\u001B[38;2;112;128;144m    viperlog: \u001B[0m File exists: Antennae_North.cal.lsrk.split.ms \n",
      "[\u001B[38;2;128;05;128m2024-11-21 09:29:39,053\u001B[0m] \u001B[38;2;50;50;205m    INFO\u001B[0m\u001B[38;2;112;128;144m    viperlog: \u001B[0m Partition scheme that will be used: ['DATA_DESC_ID', 'OBS_MODE', 'OBSERVATION_ID', 'FIELD_ID'] \n",
      "[\u001B[38;2;128;05;128m2024-11-21 09:29:39,248\u001B[0m] \u001B[38;2;50;50;205m    INFO\u001B[0m\u001B[38;2;112;128;144m    viperlog: \u001B[0m Number of partitions: 12 \n",
      "[\u001B[38;2;128;05;128m2024-11-21 09:29:39,250\u001B[0m] \u001B[38;2;50;50;205m    INFO\u001B[0m\u001B[38;2;112;128;144m    viperlog: \u001B[0m OBSERVATION_ID [0], DDI [0], STATE [32 23 30 37], FIELD [0], SCAN [ 9 17 21 25] \n",
      "[\u001B[38;2;128;05;128m2024-11-21 09:29:39,474\u001B[0m] \u001B[38;2;50;50;205m    INFO\u001B[0m\u001B[38;2;112;128;144m    viperlog: \u001B[0m OBSERVATION_ID [0], DDI [0], STATE [33 24 31], FIELD [1], SCAN [ 9 17 21] \n",
      "[\u001B[38;2;128;05;128m2024-11-21 09:29:39,625\u001B[0m] \u001B[38;2;50;50;205m    INFO\u001B[0m\u001B[38;2;112;128;144m    viperlog: \u001B[0m OBSERVATION_ID [0], DDI [0], STATE [34 25 32], FIELD [2], SCAN [ 9 17 21] \n",
      "[\u001B[38;2;128;05;128m2024-11-21 09:29:39,772\u001B[0m] \u001B[38;2;50;50;205m    INFO\u001B[0m\u001B[38;2;112;128;144m    viperlog: \u001B[0m OBSERVATION_ID [1], DDI [0], STATE [32 23 30 37], FIELD [0], SCAN [26 34 38 42] \n",
      "[\u001B[38;2;128;05;128m2024-11-21 09:29:39,940\u001B[0m] \u001B[38;2;50;50;205m    INFO\u001B[0m\u001B[38;2;112;128;144m    viperlog: \u001B[0m OBSERVATION_ID [1], DDI [0], STATE [33 24 31], FIELD [1], SCAN [26 34 38] \n",
      "[\u001B[38;2;128;05;128m2024-11-21 09:29:40,107\u001B[0m] \u001B[38;2;50;50;205m    INFO\u001B[0m\u001B[38;2;112;128;144m    viperlog: \u001B[0m OBSERVATION_ID [1], DDI [0], STATE [34 25 32], FIELD [2], SCAN [26 34 38] \n",
      "[\u001B[38;2;128;05;128m2024-11-21 09:29:40,265\u001B[0m] \u001B[38;2;50;50;205m    INFO\u001B[0m\u001B[38;2;112;128;144m    viperlog: \u001B[0m OBSERVATION_ID [2], DDI [0], STATE [32], FIELD [0], SCAN [43] \n",
      "[\u001B[38;2;128;05;128m2024-11-21 09:29:40,452\u001B[0m] \u001B[38;2;50;50;205m    INFO\u001B[0m\u001B[38;2;112;128;144m    viperlog: \u001B[0m OBSERVATION_ID [2], DDI [0], STATE [33], FIELD [1], SCAN [43] \n",
      "[\u001B[38;2;128;05;128m2024-11-21 09:29:40,624\u001B[0m] \u001B[38;2;50;50;205m    INFO\u001B[0m\u001B[38;2;112;128;144m    viperlog: \u001B[0m OBSERVATION_ID [2], DDI [0], STATE [34], FIELD [2], SCAN [43] \n",
      "[\u001B[38;2;128;05;128m2024-11-21 09:29:40,790\u001B[0m] \u001B[38;2;50;50;205m    INFO\u001B[0m\u001B[38;2;112;128;144m    viperlog: \u001B[0m OBSERVATION_ID [3], DDI [0], STATE [48 39 46 53], FIELD [0], SCAN [48 56 60 64] \n",
      "[\u001B[38;2;128;05;128m2024-11-21 09:29:40,953\u001B[0m] \u001B[38;2;50;50;205m    INFO\u001B[0m\u001B[38;2;112;128;144m    viperlog: \u001B[0m OBSERVATION_ID [3], DDI [0], STATE [49 40 47], FIELD [1], SCAN [48 56 60] \n",
      "[\u001B[38;2;128;05;128m2024-11-21 09:29:41,114\u001B[0m] \u001B[38;2;50;50;205m    INFO\u001B[0m\u001B[38;2;112;128;144m    viperlog: \u001B[0m OBSERVATION_ID [3], DDI [0], STATE [50 41 48], FIELD [2], SCAN [48 56 60] \n"
     ]
    }
   ],
   "source": [
    "toolviper.utils.data.download(file=\"../Antennae_North.cal.lsrk.split.ms\")\n",
    "\n",
    "_ = convert_msv2_to_processing_set(\n",
    "    in_file=\"../Antennae_North.cal.lsrk.split.ms\",\n",
    "    out_file=\"../Antennae_North.cal.lsrk.split.vis.zarr\",\n",
    "    parallel=False,\n",
    "    overwrite=True,\n",
    "    main_chunksize={\n",
    "        \"frequency\": 3\n",
    "    },\n",
    ")"
   ]
  },
  {
   "cell_type": "code",
   "execution_count": 6,
   "id": "4077e188-728a-4c90-9d31-812b9c888756",
   "metadata": {
    "scrolled": true
   },
   "outputs": [],
   "source": [
    "ps = open_processing_set(\n",
    "    ps_store=\"Antennae_North.cal.lsrk.split.vis.zarr\",\n",
    "    intents=[\"OBSERVE_TARGET#ON_SOURCE\"],\n",
    ")\n",
    "\n",
    "#ps.summary()"
   ]
  },
  {
   "cell_type": "code",
   "execution_count": 7,
   "id": "eebfc16c-13ec-4a31-830c-5cac52d77863",
   "metadata": {},
   "outputs": [],
   "source": [
    "mxds = ps[\"Antennae_North.cal.lsrk.split_00\"]"
   ]
  },
  {
   "cell_type": "code",
   "execution_count": 8,
   "id": "166e3370-c008-44e0-915d-2e1304c228df",
   "metadata": {},
   "outputs": [
    {
     "ename": "TypeError",
     "evalue": "CalibrationTable() missing 1 required positional argument: 'self'",
     "output_type": "error",
     "traceback": [
      "\u001B[0;31m---------------------------------------------------------------------------\u001B[0m",
      "\u001B[0;31mTypeError\u001B[0m                                 Traceback (most recent call last)",
      "Cell \u001B[0;32mIn[8], line 1\u001B[0m\n\u001B[0;32m----> 1\u001B[0m ctable \u001B[38;5;241m=\u001B[39m \u001B[43mCalibrationTable\u001B[49m\u001B[43m(\u001B[49m\u001B[43m)\u001B[49m\n",
      "File \u001B[0;32m~/.conda/envs/calviper/lib/python3.10/site-packages/toolviper/utils/parameter.py:44\u001B[0m, in \u001B[0;36mvalidate.<locals>.function_wrapper.<locals>.wrapper\u001B[0;34m(*args, **kwargs)\u001B[0m\n\u001B[1;32m     41\u001B[0m \u001B[38;5;129m@functools\u001B[39m\u001B[38;5;241m.\u001B[39mwraps(function)\n\u001B[1;32m     42\u001B[0m \u001B[38;5;28;01mdef\u001B[39;00m \u001B[38;5;21mwrapper\u001B[39m(\u001B[38;5;241m*\u001B[39margs, \u001B[38;5;241m*\u001B[39m\u001B[38;5;241m*\u001B[39mkwargs):\n\u001B[1;32m     43\u001B[0m     meta_data \u001B[38;5;241m=\u001B[39m {\u001B[38;5;124m\"\u001B[39m\u001B[38;5;124mfunction\u001B[39m\u001B[38;5;124m\"\u001B[39m: \u001B[38;5;28;01mNone\u001B[39;00m, \u001B[38;5;124m\"\u001B[39m\u001B[38;5;124mmodule\u001B[39m\u001B[38;5;124m\"\u001B[39m: \u001B[38;5;28;01mNone\u001B[39;00m}\n\u001B[0;32m---> 44\u001B[0m     arguments \u001B[38;5;241m=\u001B[39m \u001B[43minspect\u001B[49m\u001B[38;5;241;43m.\u001B[39;49m\u001B[43mgetcallargs\u001B[49m\u001B[43m(\u001B[49m\u001B[43mfunction\u001B[49m\u001B[43m,\u001B[49m\u001B[43m \u001B[49m\u001B[38;5;241;43m*\u001B[39;49m\u001B[43margs\u001B[49m\u001B[43m,\u001B[49m\u001B[43m \u001B[49m\u001B[38;5;241;43m*\u001B[39;49m\u001B[38;5;241;43m*\u001B[39;49m\u001B[43mkwargs\u001B[49m\u001B[43m)\u001B[49m\n\u001B[1;32m     46\u001B[0m     meta_data[\u001B[38;5;124m\"\u001B[39m\u001B[38;5;124mfunction\u001B[39m\u001B[38;5;124m\"\u001B[39m] \u001B[38;5;241m=\u001B[39m function\u001B[38;5;241m.\u001B[39m\u001B[38;5;18m__name__\u001B[39m\n\u001B[1;32m     47\u001B[0m     meta_data[\u001B[38;5;124m\"\u001B[39m\u001B[38;5;124mmodule\u001B[39m\u001B[38;5;124m\"\u001B[39m] \u001B[38;5;241m=\u001B[39m function\u001B[38;5;241m.\u001B[39m\u001B[38;5;18m__module__\u001B[39m\n",
      "File \u001B[0;32m~/.conda/envs/calviper/lib/python3.10/inspect.py:1532\u001B[0m, in \u001B[0;36mgetcallargs\u001B[0;34m(func, *positional, **named)\u001B[0m\n\u001B[1;32m   1530\u001B[0m \u001B[38;5;28;01mfor\u001B[39;00m arg \u001B[38;5;129;01min\u001B[39;00m req:\n\u001B[1;32m   1531\u001B[0m     \u001B[38;5;28;01mif\u001B[39;00m arg \u001B[38;5;129;01mnot\u001B[39;00m \u001B[38;5;129;01min\u001B[39;00m arg2value:\n\u001B[0;32m-> 1532\u001B[0m         \u001B[43m_missing_arguments\u001B[49m\u001B[43m(\u001B[49m\u001B[43mf_name\u001B[49m\u001B[43m,\u001B[49m\u001B[43m \u001B[49m\u001B[43mreq\u001B[49m\u001B[43m,\u001B[49m\u001B[43m \u001B[49m\u001B[38;5;28;43;01mTrue\u001B[39;49;00m\u001B[43m,\u001B[49m\u001B[43m \u001B[49m\u001B[43marg2value\u001B[49m\u001B[43m)\u001B[49m\n\u001B[1;32m   1533\u001B[0m \u001B[38;5;28;01mfor\u001B[39;00m i, arg \u001B[38;5;129;01min\u001B[39;00m \u001B[38;5;28menumerate\u001B[39m(args[num_args \u001B[38;5;241m-\u001B[39m num_defaults:]):\n\u001B[1;32m   1534\u001B[0m     \u001B[38;5;28;01mif\u001B[39;00m arg \u001B[38;5;129;01mnot\u001B[39;00m \u001B[38;5;129;01min\u001B[39;00m arg2value:\n",
      "File \u001B[0;32m~/.conda/envs/calviper/lib/python3.10/inspect.py:1461\u001B[0m, in \u001B[0;36m_missing_arguments\u001B[0;34m(f_name, argnames, pos, values)\u001B[0m\n\u001B[1;32m   1459\u001B[0m     \u001B[38;5;28;01mdel\u001B[39;00m names[\u001B[38;5;241m-\u001B[39m\u001B[38;5;241m2\u001B[39m:]\n\u001B[1;32m   1460\u001B[0m     s \u001B[38;5;241m=\u001B[39m \u001B[38;5;124m\"\u001B[39m\u001B[38;5;124m, \u001B[39m\u001B[38;5;124m\"\u001B[39m\u001B[38;5;241m.\u001B[39mjoin(names) \u001B[38;5;241m+\u001B[39m tail\n\u001B[0;32m-> 1461\u001B[0m \u001B[38;5;28;01mraise\u001B[39;00m \u001B[38;5;167;01mTypeError\u001B[39;00m(\u001B[38;5;124m\"\u001B[39m\u001B[38;5;132;01m%s\u001B[39;00m\u001B[38;5;124m() missing \u001B[39m\u001B[38;5;132;01m%i\u001B[39;00m\u001B[38;5;124m required \u001B[39m\u001B[38;5;132;01m%s\u001B[39;00m\u001B[38;5;124m argument\u001B[39m\u001B[38;5;132;01m%s\u001B[39;00m\u001B[38;5;124m: \u001B[39m\u001B[38;5;132;01m%s\u001B[39;00m\u001B[38;5;124m\"\u001B[39m \u001B[38;5;241m%\u001B[39m\n\u001B[1;32m   1462\u001B[0m                 (f_name, missing,\n\u001B[1;32m   1463\u001B[0m                   \u001B[38;5;124m\"\u001B[39m\u001B[38;5;124mpositional\u001B[39m\u001B[38;5;124m\"\u001B[39m \u001B[38;5;28;01mif\u001B[39;00m pos \u001B[38;5;28;01melse\u001B[39;00m \u001B[38;5;124m\"\u001B[39m\u001B[38;5;124mkeyword-only\u001B[39m\u001B[38;5;124m\"\u001B[39m,\n\u001B[1;32m   1464\u001B[0m                   \u001B[38;5;124m\"\u001B[39m\u001B[38;5;124m\"\u001B[39m \u001B[38;5;28;01mif\u001B[39;00m missing \u001B[38;5;241m==\u001B[39m \u001B[38;5;241m1\u001B[39m \u001B[38;5;28;01melse\u001B[39;00m \u001B[38;5;124m\"\u001B[39m\u001B[38;5;124ms\u001B[39m\u001B[38;5;124m\"\u001B[39m, s))\n",
      "\u001B[0;31mTypeError\u001B[0m: CalibrationTable() missing 1 required positional argument: 'self'"
     ]
    }
   ],
   "source": [
    "ctable = CalibrationTable()"
   ]
  },
  {
   "cell_type": "markdown",
   "id": "9b59cde0-08b5-4f47-b347-2c7b14273543",
   "metadata": {},
   "source": [
    "### Create empty calibration table xarray dataset from another xarray dataset"
   ]
  },
  {
   "cell_type": "code",
   "execution_count": null,
   "id": "5b45168e-4a4c-4530-b219-a9203db6609d",
   "metadata": {},
   "outputs": [],
   "source": [
    "ctable.create_table(factory=\"gain\").empty_like(dataset=mxds)"
   ]
  },
  {
   "cell_type": "code",
   "execution_count": null,
   "id": "71eab5d3-7a10-4939-8472-7065f4154c8a",
   "metadata": {},
   "outputs": [],
   "source": [
    "ncoords = {\n",
    "    \"time\": mxds.coords[\"time\"].values,\n",
    "    \"antenna\": mxds.antenna_xds.antenna_name.values,\n",
    "    \"frequency\": mxds.coords[\"frequency\"].values,\n",
    "    \"polarization\": np.array([\"R\", \"L\"]),\n",
    "    \"gain\": np.empty([1])\n",
    "}"
   ]
  },
  {
   "cell_type": "markdown",
   "id": "87999cf3-74d9-4564-984e-d0e9cd2458b7",
   "metadata": {},
   "source": [
    "### Create calibration data set with simulated (random) values from coordinates."
   ]
  },
  {
   "cell_type": "code",
   "execution_count": null,
   "id": "9a7cbdba-9038-4923-ae61-7ed94cd1ab5f",
   "metadata": {},
   "outputs": [],
   "source": [
    "ctable.create_table(factory=\"gain\").generate(ncoords)"
   ]
  },
  {
   "cell_type": "code",
   "execution_count": null,
   "id": "0314a7a5-86e9-49eb-bf5a-5d4b7fd9429b",
   "metadata": {},
   "outputs": [],
   "source": []
  }
 ],
 "metadata": {
  "kernelspec": {
   "display_name": "Python 3 (ipykernel)",
   "language": "python",
   "name": "python3"
  },
  "language_info": {
   "codemirror_mode": {
    "name": "ipython",
    "version": 3
   },
   "file_extension": ".py",
   "mimetype": "text/x-python",
   "name": "python",
   "nbconvert_exporter": "python",
   "pygments_lexer": "ipython3",
   "version": "3.10.15"
  }
 },
 "nbformat": 4,
 "nbformat_minor": 5
}
