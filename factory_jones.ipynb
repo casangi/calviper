{
 "cells": [
  {
   "cell_type": "code",
   "execution_count": null,
   "id": "5076dee4-776f-427e-b790-ce440f171cbe",
   "metadata": {},
   "outputs": [],
   "source": [
    "!python -m pip install -e . >> /dev/null"
   ]
  },
  {
   "cell_type": "code",
   "execution_count": null,
   "id": "b75de828-c739-476f-aad5-a6b01e53aef7",
   "metadata": {},
   "outputs": [
    {
     "ename": "ModuleNotFoundError",
     "evalue": "No module named 'calviper'",
     "output_type": "error",
     "traceback": [
      "\u001b[0;31m---------------------------------------------------------------------------\u001b[0m",
      "\u001b[0;31mModuleNotFoundError\u001b[0m                       Traceback (most recent call last)",
      "Cell \u001b[0;32mIn[2], line 5\u001b[0m\n\u001b[1;32m      3\u001b[0m \u001b[38;5;28;01mimport\u001b[39;00m \u001b[38;5;21;01mpathlib\u001b[39;00m\n\u001b[1;32m      4\u001b[0m \u001b[38;5;28;01mimport\u001b[39;00m \u001b[38;5;21;01mnumba\u001b[39;00m\n\u001b[0;32m----> 5\u001b[0m \u001b[38;5;28;01mimport\u001b[39;00m \u001b[38;5;21;01mcalviper\u001b[39;00m\n\u001b[1;32m      7\u001b[0m \u001b[38;5;28;01mimport\u001b[39;00m \u001b[38;5;21;01mnumpy\u001b[39;00m \u001b[38;5;28;01mas\u001b[39;00m \u001b[38;5;21;01mnp\u001b[39;00m\n\u001b[1;32m      8\u001b[0m \u001b[38;5;28;01mimport\u001b[39;00m \u001b[38;5;21;01mpandas\u001b[39;00m \u001b[38;5;28;01mas\u001b[39;00m \u001b[38;5;21;01mpd\u001b[39;00m\n",
      "\u001b[0;31mModuleNotFoundError\u001b[0m: No module named 'calviper'"
     ]
    }
   ],
   "source": [
    "import toolviper\n",
    "import xradio\n",
    "import pathlib\n",
    "import numba\n",
    "import calviper\n",
    "\n",
    "import numpy as np\n",
    "import pandas as pd\n",
    "import matplotlib.pyplot as plt\n",
    "\n",
    "from xradio import measurement_set as ms"
   ]
  },
  {
   "cell_type": "code",
   "execution_count": null,
   "id": "6ed9a29d-367e-46ec-ab9d-ac55cfcfad6e",
   "metadata": {},
   "outputs": [],
   "source": [
    "if not pathlib.Path.cwd().joinpath(\"data/gaincaltest2.ps.zarr\").exists():\n",
    "    toolviper.utils.data.download(\"gaincal.test.zarr\", \"data\")"
   ]
  },
  {
   "cell_type": "code",
   "execution_count": null,
   "id": "d9493256-8a80-4bee-ae5e-c4145627b157",
   "metadata": {},
   "outputs": [],
   "source": [
    "ps = ms.open_processing_set(\"data/gaincaltest2.ps.zarr\")\n",
    "\n",
    "sub_ps = ps.sel(intents=\"CALIBRATE_DELAY#ON_SOURCE\", scan_number=2)\n",
    "sub_ps.summary()"
   ]
  },
  {
   "cell_type": "code",
   "execution_count": null,
   "id": "0613dde0-351b-4c16-a775-206029bb91ae",
   "metadata": {},
   "outputs": [],
   "source": [
    "dataset = sub_ps[\"gaincaltest2_0\"]"
   ]
  },
  {
   "cell_type": "code",
   "execution_count": null,
   "id": "478612a6-aaff-4411-ad34-0d1e6bc84331",
   "metadata": {},
   "outputs": [],
   "source": [
    "V = dataset.VISIBILITY.mean(dim=[\"time\", \"frequency\"], keepdims=True, keep_attrs=True).data.compute()\n",
    "V.shape"
   ]
  },
  {
   "cell_type": "code",
   "execution_count": null,
   "id": "0ce2493e-0c7e-4e6f-9711-5b63df1973ef",
   "metadata": {},
   "outputs": [],
   "source": [
    "cm = calviper.factory.jones.CalibrationMatrix()"
   ]
  },
  {
   "cell_type": "code",
   "execution_count": null,
   "id": "e62cd1f3-36ce-44d0-8132-a31cdd4f4fa8",
   "metadata": {},
   "outputs": [],
   "source": [
    "G = cm.create_jones(\"gain\").empty_like(dataset)"
   ]
  },
  {
   "cell_type": "code",
   "execution_count": null,
   "id": "6403894b-a634-45a8-9219-05aed71457f1",
   "metadata": {},
   "outputs": [],
   "source": [
    "G.gain.initialize()"
   ]
  },
  {
   "cell_type": "code",
   "execution_count": null,
   "id": "cd1ff35b-9d90-49ed-95d7-a47d5f001f61",
   "metadata": {},
   "outputs": [],
   "source": [
    "G"
   ]
  },
  {
   "cell_type": "code",
   "execution_count": null,
   "id": "7ccb777d-9509-4d19-a2c1-77d53c9564f9",
   "metadata": {},
   "outputs": [],
   "source": [
    "G.PARAMETER.shape"
   ]
  },
  {
   "cell_type": "code",
   "execution_count": null,
   "id": "d785e421-250d-4f03-9338-e143789889f4",
   "metadata": {},
   "outputs": [],
   "source": [
    "G.coords.items()"
   ]
  },
  {
   "cell_type": "code",
   "execution_count": null,
   "id": "2c082a02-e4a0-475d-9891-49ee8f3b21dd",
   "metadata": {},
   "outputs": [],
   "source": [
    "v = V\n",
    "\n",
    "full_antenna_list = np.union1d(\n",
    "    dataset.baseline_antenna1_name.to_numpy(),\n",
    "    dataset.baseline_antenna2_name.to_numpy()\n",
    ")\n",
    "\n",
    "full_antenna_list\n",
    "\n",
    "encoder, antennas = calviper.math.tools.encode(full_antenna_list)\n",
    "\n",
    "index_a = encoder.transform(dataset.baseline_antenna1_name.to_numpy())\n",
    "index_b = encoder.transform(dataset.baseline_antenna2_name.to_numpy())\n",
    "\n",
    "v_ = calviper.math.tools.build_visibility_matrix(array=v, index_a=index_a, index_b=index_b)"
   ]
  },
  {
   "cell_type": "code",
   "execution_count": null,
   "id": "273a36a3-7f9d-4bfe-93de-3ac5888adab5",
   "metadata": {},
   "outputs": [],
   "source": [
    "v_.shape"
   ]
  },
  {
   "cell_type": "code",
   "execution_count": null,
   "id": "2ff5cc79-02c8-49a0-9016-c7113a657226",
   "metadata": {},
   "outputs": [],
   "source": [
    "solver = calviper.math.solver.least_squares.LeastSquaresSolver()"
   ]
  },
  {
   "cell_type": "code",
   "execution_count": null,
   "id": "99704e1f-e800-40bf-a0e4-5d4715e011b3",
   "metadata": {},
   "outputs": [],
   "source": [
    "gain_solutions = solver.solve(\n",
    "    vis=v_,\n",
    "    iterations=50,\n",
    "    optimizer=calviper.math.optimizer.MeanSquaredError(alpha=0.25),\n",
    "    stopping=1e-4\n",
    ")"
   ]
  },
  {
   "cell_type": "code",
   "execution_count": null,
   "id": "4dba3ecf-0693-4462-9956-3a4e9541ba77",
   "metadata": {},
   "outputs": [],
   "source": [
    "t = np.linspace(1, len(solver.losses), len(solver.losses))\n",
    "\n",
    "plt.scatter(solver.losses, t)"
   ]
  },
  {
   "cell_type": "code",
   "execution_count": null,
   "id": "1afafaab-eef7-4960-b6b9-31de7e12579f",
   "metadata": {},
   "outputs": [],
   "source": [
    "# Gain solutions\n",
    "\n",
    "print(f\"X: {solver.parameter[..., 0, :]}\")\n",
    "print(f\"Y: {solver.parameter[..., 1, :]}\")"
   ]
  },
  {
   "cell_type": "code",
   "execution_count": null,
   "id": "a268274a-56b4-4fd3-b3a7-fb0704abe7c1",
   "metadata": {},
   "outputs": [],
   "source": [
    "solver.parameter.shape"
   ]
  }
 ],
 "metadata": {
  "kernelspec": {
   "display_name": "Python 3 (ipykernel)",
   "language": "python",
   "name": "python3"
  },
  "language_info": {
   "codemirror_mode": {
    "name": "ipython",
    "version": 3
   },
   "file_extension": ".py",
   "mimetype": "text/x-python",
   "name": "python",
   "nbconvert_exporter": "python",
   "pygments_lexer": "ipython3",
   "version": "3.12.7"
  }
 },
 "nbformat": 4,
 "nbformat_minor": 5
}
