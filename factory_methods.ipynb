{
 "cells": [
  {
   "cell_type": "code",
   "execution_count": null,
   "id": "d793d2a9-13ff-43f0-ada7-8830db0f0954",
   "metadata": {},
   "outputs": [],
   "source": [
    "!python -m pip install -e . >> /dev/null"
   ]
  },
  {
   "cell_type": "code",
   "execution_count": null,
   "id": "91d0e493-eb52-4ff9-bf4e-6e42e1f83941",
   "metadata": {},
   "outputs": [],
   "source": [
    "import toolviper\n",
    "import xradio\n",
    "import pathlib\n",
    "import numba\n",
    "\n",
    "import numpy as np\n",
    "import pandas as pd\n",
    "\n",
    "from calviper.factory.jones import CalibrationMatrix\n",
    "\n",
    "from xradio import measurement_set as ms"
   ]
  },
  {
   "cell_type": "code",
   "execution_count": null,
   "id": "897b0cdb-4ca0-4488-acad-53a2c245b285",
   "metadata": {},
   "outputs": [],
   "source": [
    "if not pathlib.Path.cwd().joinpath(\"data/gaincaltest2.ps.zarr\").exists():\n",
    "    toolviper.utils.data.download(\"gaincal.test.zarr\", \"data\")"
   ]
  },
  {
   "cell_type": "code",
   "execution_count": null,
   "id": "82f8673f-cbdc-4c54-a813-353fb147309c",
   "metadata": {},
   "outputs": [],
   "source": [
    "ps = ms.open_processing_set(\"data/gaincaltest2.ps.zarr\")\n",
    "\n",
    "sub_ps = ps.sel(intents=\"CALIBRATE_DELAY#ON_SOURCE\", scan_number=2)\n",
    "sub_ps.summary()"
   ]
  },
  {
   "cell_type": "code",
   "execution_count": null,
   "id": "8218ddec-76b6-409c-a25e-28106f411daf",
   "metadata": {},
   "outputs": [],
   "source": [
    "sps = sub_ps[\"gaincaltest2_0\"]"
   ]
  },
  {
   "cell_type": "code",
   "execution_count": null,
   "id": "ada6b873-cead-44a8-b651-03f797f9bd82",
   "metadata": {},
   "outputs": [],
   "source": [
    "cmatrix = CalibrationMatrix()"
   ]
  },
  {
   "cell_type": "code",
   "execution_count": null,
   "id": "50542267-b907-461a-9478-3493bc1ab4ba",
   "metadata": {},
   "outputs": [],
   "source": [
    "jones = cmatrix.create_jones(\"gain\").empty_like(sps)"
   ]
  },
  {
   "cell_type": "code",
   "execution_count": null,
   "id": "13af4cf2-87a9-42c5-845e-7cc7096bb6db",
   "metadata": {},
   "outputs": [],
   "source": [
    "jones"
   ]
  },
  {
   "cell_type": "markdown",
   "id": "4d15d49a-944b-42d4-9ca2-d1f681b4a8c6",
   "metadata": {},
   "source": [
    "### Functions that use the xarray data to perform some extended calcualtion are found under `gain`. Below we add an empty gain matrix to the jones object."
   ]
  },
  {
   "cell_type": "code",
   "execution_count": null,
   "id": "5bf1f39f-0fd5-447d-93d4-a4716221f9d9",
   "metadata": {},
   "outputs": [],
   "source": [
    "jones.gain.example()"
   ]
  },
  {
   "cell_type": "code",
   "execution_count": null,
   "id": "1132e46e-545c-45e7-a69b-2591c43bb5de",
   "metadata": {},
   "outputs": [],
   "source": "jones.gain.initialize()"
  },
  {
   "cell_type": "code",
   "execution_count": null,
   "id": "ebb90d2a-29bc-43eb-ada3-c7dbe0b553f5",
   "metadata": {},
   "outputs": [],
   "source": [
    "jones"
   ]
  },
  {
   "cell_type": "code",
   "execution_count": null,
   "id": "61c25afe-e3d9-4501-9999-ca7659342c84",
   "metadata": {},
   "outputs": [],
   "source": [
    "jones.gain.type"
   ]
  },
  {
   "cell_type": "code",
   "execution_count": null,
   "id": "6bed63a8-5d93-408a-925d-e8e82c78f797",
   "metadata": {},
   "outputs": [],
   "source": [
    "jones.scan_id.plot.hist()"
   ]
  },
  {
   "cell_type": "code",
   "execution_count": null,
   "id": "1d4b4f1a-3ea4-48f0-ad29-438807b49191",
   "metadata": {},
   "outputs": [],
   "source": [
    "jones.frequency.plot.scatter()"
   ]
  }
 ],
 "metadata": {
  "kernelspec": {
   "display_name": "Python 3 (ipykernel)",
   "language": "python",
   "name": "python3"
  },
  "language_info": {
   "codemirror_mode": {
    "name": "ipython",
    "version": 3
   },
   "file_extension": ".py",
   "mimetype": "text/x-python",
   "name": "python",
   "nbconvert_exporter": "python",
   "pygments_lexer": "ipython3",
   "version": "3.10.16"
  }
 },
 "nbformat": 4,
 "nbformat_minor": 5
}
