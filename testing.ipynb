{
 "cells": [
  {
   "cell_type": "code",
   "execution_count": 1,
   "id": "c70e38eb-b00f-441f-821f-3da450f65f3a",
   "metadata": {},
   "outputs": [],
   "source": [
    "%load_ext autoreload\n",
    "%autoreload 2"
   ]
  },
  {
   "cell_type": "code",
   "execution_count": 2,
   "id": "27576dd1-0204-418e-8bf7-d8cc58c67397",
   "metadata": {},
   "outputs": [],
   "source": [
    "import os\n",
    "import sys\n",
    "sys.path.append(os.getcwd()+\"/src\")\n",
    "\n",
    "import toolviper\n",
    "import xradio\n",
    "import pathlib\n",
    "import numba\n",
    "\n",
    "import numpy as np\n",
    "import pandas as pd\n",
    "import calviper as cv\n",
    "\n",
    "from xradio import measurement_set as ms"
   ]
  },
  {
   "cell_type": "code",
   "execution_count": 3,
   "id": "bc47abd7-51e9-4f85-ac77-4f00a5caae25",
   "metadata": {},
   "outputs": [
    {
     "data": {
      "text/html": [
       "<style>.container { width:200% !important; }</style>"
      ],
      "text/plain": [
       "<IPython.core.display.HTML object>"
      ]
     },
     "metadata": {},
     "output_type": "display_data"
    }
   ],
   "source": [
    "from IPython.display import display, HTML\n",
    "\n",
    "display(HTML(\"<style>.container { width:200% !important; }</style>\"))"
   ]
  },
  {
   "cell_type": "code",
   "execution_count": 4,
   "id": "d499db1b-ece5-439d-8314-480fd04e3a95",
   "metadata": {},
   "outputs": [],
   "source": [
    "if not pathlib.Path.cwd().joinpath(\"data/gaincaltest2.ps.zarr\").exists():\n",
    "    toolviper.utils.data.download(\"gaincal.test.zarr\", \"data\")"
   ]
  },
  {
   "cell_type": "code",
<<<<<<< HEAD
   "execution_count": 5,
=======
   "execution_count": 4,
>>>>>>> main
   "id": "868b54cd-e0db-4243-bd26-aee45746b24a",
   "metadata": {},
   "outputs": [
    {
     "data": {
      "text/plain": [
       "(10,)"
      ]
     },
<<<<<<< HEAD
     "execution_count": 5,
=======
     "execution_count": 4,
>>>>>>> main
     "metadata": {},
     "output_type": "execute_result"
    }
   ],
   "source": [
    "df_gains = pd.read_csv(\"gains.csv\")\n",
    "gains = df_gains.gain.apply(complex).to_numpy()\n",
    "gains.shape"
   ]
  },
  {
   "cell_type": "code",
   "execution_count": 6,
   "id": "5acb93c9-8985-4d0a-b305-b8aa2fd8a8af",
   "metadata": {},
   "outputs": [],
   "source": [
    "df_vis = pd.read_csv(\"vis.csv\")\n",
    "df_vis.drop(columns=[\"Unnamed: 0\"], inplace=True)\n",
    "\n",
    "vis = df_vis.vis.apply(complex).to_numpy()\n",
    "\n",
    "ant_a = df_vis.ant_a.to_numpy()\n",
    "ant_b = df_vis.ant_b.to_numpy()"
   ]
  },
  {
   "cell_type": "code",
   "execution_count": 7,
   "id": "cdef1479-cb2d-486e-adb9-6550f14e8dcf",
   "metadata": {},
   "outputs": [],
   "source": [
    "from calviper.math.loss import mean_squared_error as mse\n",
    "\n",
    "def build_vis(vis, index_a, index_b):\n",
    "    count = 1\n",
    "    \n",
    "    X = np.zeros((10, 10), dtype=complex)\n",
    "\n",
    "    for i in range(45):\n",
    "        m = index_a[i]\n",
    "        n = index_b[i]\n",
    "\n",
    "        X[m, n] = X[m, n]*(count - 1) + vis[i]\n",
    "        X[m, n] = X[m, n]/count\n",
    "\n",
    "        X[n, m] = X[m, n].conj()\n",
    "\n",
    "    return X"
   ]
  },
  {
   "cell_type": "code",
<<<<<<< HEAD
   "execution_count": 8,
=======
   "execution_count": 7,
>>>>>>> main
   "id": "49ad6a73-c7c8-4cb4-b379-264bdcdd8ddb",
   "metadata": {},
   "outputs": [
    {
     "data": {
      "text/plain": [
       "(1, 1, 10, 10)"
      ]
     },
<<<<<<< HEAD
     "execution_count": 8,
=======
     "execution_count": 7,
>>>>>>> main
     "metadata": {},
     "output_type": "execute_result"
    }
   ],
   "source": [
    "X = build_vis(vis, ant_a, ant_b)\n",
    "X = np.asarray([[X]])\n",
    "X.shape"
   ]
  },
  {
   "cell_type": "code",
   "execution_count": 9,
   "id": "a8dff2b3-fdbb-40f5-a347-ce651971dc51",
   "metadata": {},
   "outputs": [],
   "source": [
    "solver = cv.math.solver.least_squares.LeastSquaresSolver()"
   ]
  },
  {
   "cell_type": "code",
   "execution_count": 10,
   "id": "fe938bb3-f311-4624-90bf-7c34705646db",
   "metadata": {},
   "outputs": [
    {
<<<<<<< HEAD
     "name": "stdout",
     "output_type": "stream",
     "text": [
      "[\u001b[38;2;128;05;128m2025-02-07 11:41:43,052\u001b[0m] \u001b[38;2;50;50;205m    INFO\u001b[0m\u001b[38;2;112;128;144m    viperlog: \u001b[0m iteration: 0\tloss: 0.05361310494403508 \n",
      "[\u001b[38;2;128;05;128m2025-02-07 11:41:43,052\u001b[0m] \u001b[38;2;50;50;205m    INFO\u001b[0m\u001b[38;2;112;128;144m    viperlog: \u001b[0m iteration: 1\tloss: 0.026944309701740502 \n",
      "[\u001b[38;2;128;05;128m2025-02-07 11:41:43,054\u001b[0m] \u001b[38;2;50;50;205m    INFO\u001b[0m\u001b[38;2;112;128;144m    viperlog: \u001b[0m iteration: 2\tloss: 0.016555650928132052 \n",
      "[\u001b[38;2;128;05;128m2025-02-07 11:41:43,055\u001b[0m] \u001b[38;2;50;50;205m    INFO\u001b[0m\u001b[38;2;112;128;144m    viperlog: \u001b[0m iteration: 3\tloss: 0.012230069643981925 \n",
      "[\u001b[38;2;128;05;128m2025-02-07 11:41:43,056\u001b[0m] \u001b[38;2;50;50;205m    INFO\u001b[0m\u001b[38;2;112;128;144m    viperlog: \u001b[0m iteration: 4\tloss: 0.010236789747607668 \n",
      "[\u001b[38;2;128;05;128m2025-02-07 11:41:43,057\u001b[0m] \u001b[38;2;50;50;205m    INFO\u001b[0m\u001b[38;2;112;128;144m    viperlog: \u001b[0m iteration: 5\tloss: 0.009207610496614923 \n",
      "[\u001b[38;2;128;05;128m2025-02-07 11:41:43,058\u001b[0m] \u001b[38;2;50;50;205m    INFO\u001b[0m\u001b[38;2;112;128;144m    viperlog: \u001b[0m Iteration: (5)\tStopping criterion reached: 0.009207610496614923 \n"
=======
     "ename": "ValueError",
     "evalue": "not enough values to unpack (expected 4, got 2)",
     "output_type": "error",
     "traceback": [
      "\u001b[0;31m---------------------------------------------------------------------------\u001b[0m",
      "\u001b[0;31mValueError\u001b[0m                                Traceback (most recent call last)",
      "Cell \u001b[0;32mIn[9], line 1\u001b[0m\n\u001b[0;32m----> 1\u001b[0m g \u001b[38;5;241m=\u001b[39m \u001b[43msolver\u001b[49m\u001b[38;5;241;43m.\u001b[39;49m\u001b[43msolve\u001b[49m\u001b[43m(\u001b[49m\n\u001b[1;32m      2\u001b[0m \u001b[43m    \u001b[49m\u001b[43mvis\u001b[49m\u001b[38;5;241;43m=\u001b[39;49m\u001b[43mX\u001b[49m\u001b[43m,\u001b[49m\n\u001b[1;32m      3\u001b[0m \u001b[43m    \u001b[49m\u001b[43miterations\u001b[49m\u001b[38;5;241;43m=\u001b[39;49m\u001b[38;5;241;43m10\u001b[39;49m\u001b[43m,\u001b[49m\n\u001b[1;32m      4\u001b[0m \u001b[43m    \u001b[49m\u001b[43moptimizer\u001b[49m\u001b[38;5;241;43m=\u001b[39;49m\u001b[43mcv\u001b[49m\u001b[38;5;241;43m.\u001b[39;49m\u001b[43mmath\u001b[49m\u001b[38;5;241;43m.\u001b[39;49m\u001b[43moptimizer\u001b[49m\u001b[38;5;241;43m.\u001b[39;49m\u001b[43mMeanSquaredError\u001b[49m\u001b[43m(\u001b[49m\u001b[43malpha\u001b[49m\u001b[38;5;241;43m=\u001b[39;49m\u001b[38;5;241;43m0.2\u001b[39;49m\u001b[43m)\u001b[49m\u001b[43m,\u001b[49m\n\u001b[1;32m      5\u001b[0m \u001b[43m    \u001b[49m\u001b[43mstopping\u001b[49m\u001b[38;5;241;43m=\u001b[39;49m\u001b[38;5;241;43m1e-2\u001b[39;49m\n\u001b[1;32m      6\u001b[0m \u001b[43m)\u001b[49m\n",
      "File \u001b[0;32m~/Development/calviper/src/calviper/math/solver/least_squares.py:94\u001b[0m, in \u001b[0;36mLeastSquaresSolver.solve\u001b[0;34m(self, vis, iterations, optimizer, stopping)\u001b[0m\n\u001b[1;32m     90\u001b[0m \u001b[38;5;28;01mdef\u001b[39;00m \u001b[38;5;21msolve\u001b[39m(\u001b[38;5;28mself\u001b[39m, vis, iterations, optimizer\u001b[38;5;241m=\u001b[39mMeanSquaredError(), stopping\u001b[38;5;241m=\u001b[39m\u001b[38;5;241m1e-3\u001b[39m):\n\u001b[1;32m     91\u001b[0m     \u001b[38;5;66;03m# This is an attempt to do the solving in a vectorized way\u001b[39;00m\n\u001b[1;32m     92\u001b[0m \n\u001b[1;32m     93\u001b[0m     \u001b[38;5;66;03m# Unpack the shape\u001b[39;00m\n\u001b[0;32m---> 94\u001b[0m     n_channel, n_polarization, n_antenna1, n_antenna2 \u001b[38;5;241m=\u001b[39m vis\u001b[38;5;241m.\u001b[39mshape\n\u001b[1;32m     96\u001b[0m     \u001b[38;5;28;01massert\u001b[39;00m n_antenna1 \u001b[38;5;241m==\u001b[39m n_antenna2, logger\u001b[38;5;241m.\u001b[39merror(\u001b[38;5;124m\"\u001b[39m\u001b[38;5;124mAntenna indices don\u001b[39m\u001b[38;5;124m'\u001b[39m\u001b[38;5;124mt match\u001b[39m\u001b[38;5;124m\"\u001b[39m)\n\u001b[1;32m     98\u001b[0m     \u001b[38;5;28mself\u001b[39m\u001b[38;5;241m.\u001b[39mparameter \u001b[38;5;241m=\u001b[39m np\u001b[38;5;241m.\u001b[39mtile(\u001b[38;5;241m0.1\u001b[39m \u001b[38;5;241m*\u001b[39m np\u001b[38;5;241m.\u001b[39mones(n_antenna1, dtype\u001b[38;5;241m=\u001b[39mnp\u001b[38;5;241m.\u001b[39mcomplex64), reps\u001b[38;5;241m=\u001b[39m[n_channel, n_polarization, \u001b[38;5;241m1\u001b[39m])\n",
      "\u001b[0;31mValueError\u001b[0m: not enough values to unpack (expected 4, got 2)"
>>>>>>> main
     ]
    }
   ],
   "source": [
    "g = solver.solve(\n",
    "    vis=X,\n",
    "    iterations=10,\n",
    "    optimizer=cv.math.optimizer.MeanSquaredError(alpha=0.2),\n",
    "    stopping=1e-2\n",
    ")"
   ]
  },
  {
   "cell_type": "code",
<<<<<<< HEAD
   "execution_count": 11,
   "id": "9d70e83d-e18a-47dd-b4c5-ddd26721cd52",
   "metadata": {},
   "outputs": [
    {
     "data": {
      "text/html": [
       "<div>\n",
       "<style scoped>\n",
       "    .dataframe tbody tr th:only-of-type {\n",
       "        vertical-align: middle;\n",
       "    }\n",
       "\n",
       "    .dataframe tbody tr th {\n",
       "        vertical-align: top;\n",
       "    }\n",
       "\n",
       "    .dataframe thead th {\n",
       "        text-align: right;\n",
       "    }\n",
       "</style>\n",
       "<table border=\"1\" class=\"dataframe\">\n",
       "  <thead>\n",
       "    <tr style=\"text-align: right;\">\n",
       "      <th></th>\n",
       "      <th>name</th>\n",
       "      <th>intents</th>\n",
       "      <th>shape</th>\n",
       "      <th>polarization</th>\n",
       "      <th>scan_number</th>\n",
       "      <th>spw_name</th>\n",
       "      <th>field_name</th>\n",
       "      <th>source_name</th>\n",
       "      <th>line_name</th>\n",
       "      <th>field_coords</th>\n",
       "      <th>start_frequency</th>\n",
       "      <th>end_frequency</th>\n",
       "    </tr>\n",
       "  </thead>\n",
       "  <tbody>\n",
       "    <tr>\n",
       "      <th>0</th>\n",
       "      <td>gaincaltest2_0</td>\n",
       "      <td>[CALIBRATE_DELAY#ON_SOURCE, CALIBRATE_PHASE#ON...</td>\n",
       "      <td>(957, 45, 8, 4)</td>\n",
       "      <td>[XX, XY, YX, YY]</td>\n",
       "      <td>[2, 4, 6, 9, 11, 14, 16, 18, 21, 23, 26]</td>\n",
       "      <td>X0000000000#ALMA_RB_03#BB_1#SW-01#FULL_RES_0</td>\n",
       "      <td>[J2255-3500_0]</td>\n",
       "      <td>[J2255-3500_0]</td>\n",
       "      <td>[]</td>\n",
       "      <td>[icrs, 22h55m57.68s, -35d00m00.00s]</td>\n",
       "      <td>8.607155e+10</td>\n",
       "      <td>8.629030e+10</td>\n",
       "    </tr>\n",
       "    <tr>\n",
       "      <th>3</th>\n",
       "      <td>gaincaltest2_2</td>\n",
       "      <td>[CALIBRATE_DELAY#ON_SOURCE, CALIBRATE_PHASE#ON...</td>\n",
       "      <td>(957, 45, 8, 4)</td>\n",
       "      <td>[XX, XY, YX, YY]</td>\n",
       "      <td>[2, 4, 6, 9, 11, 14, 16, 18, 21, 23, 26]</td>\n",
       "      <td>X0000000000#ALMA_RB_03#BB_2#SW-01#FULL_RES_1</td>\n",
       "      <td>[J2255-3500_0]</td>\n",
       "      <td>[J2255-3500_0]</td>\n",
       "      <td>[]</td>\n",
       "      <td>[icrs, 22h55m57.68s, -35d00m00.00s]</td>\n",
       "      <td>8.794655e+10</td>\n",
       "      <td>8.816530e+10</td>\n",
       "    </tr>\n",
       "    <tr>\n",
       "      <th>2</th>\n",
       "      <td>gaincaltest2_4</td>\n",
       "      <td>[CALIBRATE_DELAY#ON_SOURCE, CALIBRATE_PHASE#ON...</td>\n",
       "      <td>(957, 45, 8, 4)</td>\n",
       "      <td>[XX, XY, YX, YY]</td>\n",
       "      <td>[2, 4, 6, 9, 11, 14, 16, 18, 21, 23, 26]</td>\n",
       "      <td>X0000000000#ALMA_RB_03#BB_3#SW-01#FULL_RES_2</td>\n",
       "      <td>[J2255-3500_0]</td>\n",
       "      <td>[J2255-3500_0]</td>\n",
       "      <td>[]</td>\n",
       "      <td>[icrs, 22h55m57.68s, -35d00m00.00s]</td>\n",
       "      <td>9.632156e+10</td>\n",
       "      <td>9.654030e+10</td>\n",
       "    </tr>\n",
       "    <tr>\n",
       "      <th>1</th>\n",
       "      <td>gaincaltest2_6</td>\n",
       "      <td>[CALIBRATE_DELAY#ON_SOURCE, CALIBRATE_PHASE#ON...</td>\n",
       "      <td>(957, 45, 8, 4)</td>\n",
       "      <td>[XX, XY, YX, YY]</td>\n",
       "      <td>[2, 4, 6, 9, 11, 14, 16, 18, 21, 23, 26]</td>\n",
       "      <td>X0000000000#ALMA_RB_03#BB_4#SW-01#FULL_RES_3</td>\n",
       "      <td>[J2255-3500_0]</td>\n",
       "      <td>[J2255-3500_0]</td>\n",
       "      <td>[]</td>\n",
       "      <td>[icrs, 22h55m57.68s, -35d00m00.00s]</td>\n",
       "      <td>9.819656e+10</td>\n",
       "      <td>9.841530e+10</td>\n",
       "    </tr>\n",
       "  </tbody>\n",
       "</table>\n",
       "</div>"
      ],
      "text/plain": [
       "             name                                            intents  \\\n",
       "0  gaincaltest2_0  [CALIBRATE_DELAY#ON_SOURCE, CALIBRATE_PHASE#ON...   \n",
       "3  gaincaltest2_2  [CALIBRATE_DELAY#ON_SOURCE, CALIBRATE_PHASE#ON...   \n",
       "2  gaincaltest2_4  [CALIBRATE_DELAY#ON_SOURCE, CALIBRATE_PHASE#ON...   \n",
       "1  gaincaltest2_6  [CALIBRATE_DELAY#ON_SOURCE, CALIBRATE_PHASE#ON...   \n",
       "\n",
       "             shape      polarization  \\\n",
       "0  (957, 45, 8, 4)  [XX, XY, YX, YY]   \n",
       "3  (957, 45, 8, 4)  [XX, XY, YX, YY]   \n",
       "2  (957, 45, 8, 4)  [XX, XY, YX, YY]   \n",
       "1  (957, 45, 8, 4)  [XX, XY, YX, YY]   \n",
       "\n",
       "                                scan_number  \\\n",
       "0  [2, 4, 6, 9, 11, 14, 16, 18, 21, 23, 26]   \n",
       "3  [2, 4, 6, 9, 11, 14, 16, 18, 21, 23, 26]   \n",
       "2  [2, 4, 6, 9, 11, 14, 16, 18, 21, 23, 26]   \n",
       "1  [2, 4, 6, 9, 11, 14, 16, 18, 21, 23, 26]   \n",
       "\n",
       "                                       spw_name      field_name  \\\n",
       "0  X0000000000#ALMA_RB_03#BB_1#SW-01#FULL_RES_0  [J2255-3500_0]   \n",
       "3  X0000000000#ALMA_RB_03#BB_2#SW-01#FULL_RES_1  [J2255-3500_0]   \n",
       "2  X0000000000#ALMA_RB_03#BB_3#SW-01#FULL_RES_2  [J2255-3500_0]   \n",
       "1  X0000000000#ALMA_RB_03#BB_4#SW-01#FULL_RES_3  [J2255-3500_0]   \n",
       "\n",
       "      source_name line_name                         field_coords  \\\n",
       "0  [J2255-3500_0]        []  [icrs, 22h55m57.68s, -35d00m00.00s]   \n",
       "3  [J2255-3500_0]        []  [icrs, 22h55m57.68s, -35d00m00.00s]   \n",
       "2  [J2255-3500_0]        []  [icrs, 22h55m57.68s, -35d00m00.00s]   \n",
       "1  [J2255-3500_0]        []  [icrs, 22h55m57.68s, -35d00m00.00s]   \n",
       "\n",
       "   start_frequency  end_frequency  \n",
       "0     8.607155e+10   8.629030e+10  \n",
       "3     8.794655e+10   8.816530e+10  \n",
       "2     9.632156e+10   9.654030e+10  \n",
       "1     9.819656e+10   9.841530e+10  "
      ]
     },
     "execution_count": 11,
     "metadata": {},
     "output_type": "execute_result"
    }
   ],
=======
   "execution_count": null,
   "id": "9d70e83d-e18a-47dd-b4c5-ddd26721cd52",
   "metadata": {},
   "outputs": [],
>>>>>>> main
   "source": [
    "ps = ms.open_processing_set(\"data/gaincaltest2.ps.zarr\")\n",
    "\n",
    "sub_ps = ps.sel(intents=\"CALIBRATE_DELAY#ON_SOURCE\", scan_number=2)\n",
    "sub_ps.summary()"
   ]
  },
  {
   "cell_type": "code",
<<<<<<< HEAD
   "execution_count": 12,
=======
   "execution_count": null,
>>>>>>> main
   "id": "343f09c9-5a90-4943-876f-0057fee9acc9",
   "metadata": {},
   "outputs": [],
   "source": [
    "sps = sub_ps[\"gaincaltest2_0\"]"
   ]
  },
  {
   "cell_type": "code",
<<<<<<< HEAD
   "execution_count": 13,
=======
   "execution_count": null,
>>>>>>> main
   "id": "da4a4577-a028-4946-8d36-e9e64799ed3f",
   "metadata": {},
   "outputs": [],
   "source": [
    "V = sps.VISIBILITY.mean(dim=\"time\").data.compute()"
   ]
  },
  {
   "cell_type": "code",
<<<<<<< HEAD
   "execution_count": 14,
=======
   "execution_count": null,
>>>>>>> main
   "id": "28118277-bed8-4d2c-be6c-2f822ce7953c",
   "metadata": {},
   "outputs": [],
   "source": [
    "def build_matrix(vis, index_a, index_b):\n",
    "    length = index_a.shape[0]\n",
    "    \n",
    "    X = np.zeros((length, length), dtype=complex)\n",
    "    \n",
    "    for m in index_a:\n",
    "        for n in index_b[1:]:\n",
    "            X[m, n] = vis[m]\n",
    "            X [n, m] = vis[m].conj()\n",
    "\n",
    "    return X\n",
    "            \n",
    "\n",
    "def counter(n):\n",
    "    counter = 0\n",
    "    for i in range(n):\n",
    "        for j in range(i, n):\n",
    "            if i == j:\n",
    "                continue\n",
    "                \n",
    "            counter += 1\n",
    "\n",
    "    return counter"
   ]
  },
  {
   "cell_type": "code",
<<<<<<< HEAD
   "execution_count": 15,
=======
   "execution_count": null,
>>>>>>> main
   "id": "d2b92546-84f4-4fc1-8d09-6febcc53a943",
   "metadata": {},
   "outputs": [],
   "source": [
    "#@numba.njit()\n",
    "def build_visibility_matrix(array: np.ndarray, index_a: np.ndarray, index_b: np.ndarray) -> np.ndarray:\n",
    "    \"\"\"\n",
    "    Build a visibility matrix from a visibility array with zeros for autocorrelation.\n",
    "    :param index_b:\n",
    "    :param index_a:\n",
    "    :param array: (numpy.ndarray) visibility array\n",
    "    :return: (np.ndarray) Visibility matrix of dimension N x N.\n",
    "    \"\"\"\n",
    "    # Get the full array length\n",
    "    size = index_a.shape[0]\n",
    "\n",
    "    # Calculate the N X N matrix size needed\n",
    "    dimension = np.unique(index_a).shape[0] + 1\n",
    "\n",
    "    # Build matrix\n",
    "    matrix_ = np.zeros((dimension, dimension), dtype=np.complex64)\n",
    "\n",
    "    for m in range(size):\n",
    "        i = index_a[m]\n",
    "        j = index_b[m]\n",
    "\n",
    "        if i == j:\n",
    "            continue\n",
    "        print(f\"({i}, {j}): {array[m]}\")\n",
    "        #matrix_[i, j] = array[m]\n",
    "        #matrix_[j, i] = np.conj(array[m])\n",
    "\n",
    "    return matrix_"
   ]
  },
  {
   "cell_type": "code",
<<<<<<< HEAD
   "execution_count": 23,
   "id": "9c1f3593-91e2-49c1-b9b6-1b48e99c28bc",
   "metadata": {},
   "outputs": [
    {
     "name": "stdout",
     "output_type": "stream",
     "text": [
      "<class 'numpy.ndarray'>\n",
      "['DA41_A110' 'DA42_A123' 'DA43_A115' 'DA44_A120' 'DA45_A091' 'DA46_A129'\n",
      " 'DA47_A074' 'DA48_A070' 'DA49_A127' 'DA50_A108']\n",
      "(45, 1, 1)\n",
      "(1, 1, 10, 10)\n"
     ]
    }
   ],
=======
   "execution_count": null,
   "id": "9c1f3593-91e2-49c1-b9b6-1b48e99c28bc",
   "metadata": {},
   "outputs": [],
>>>>>>> main
   "source": [
    "V = sps.VISIBILITY.mean(dim=\"time\").data.compute()\n",
    "print(type(V))\n",
    "vis_array = V[:, :1, :1]\n",
    "\n",
    "ants1 = sps.baseline_antenna1_name.to_numpy()\n",
    "ants2 = sps.baseline_antenna2_name.to_numpy()\n",
    "ants = np.union1d(ants1, ants2)\n",
    "\n",
    "print(ants)\n",
    "\n",
    "index_a, _ = cv.math.tools.encode(ants)\n",
    "index_b, _ = cv.math.tools.encode(ants)\n",
    "\n",
    "#print('=' * 31)\n",
    "#for i in range(len(ants1)):\n",
    "#    print(\"|\", index_a[i], ants1[i], \" | \", index_b[i], ants2[i], \"|\")\n",
    "#    print('-' * 31)\n",
    "\n",
    "#print(vis_array)\n",
    "print(vis_array.shape)\n",
    "V = cv.math.tools.build_visibility_matrix(array=vis_array, index_a=index_a, index_b=index_b)\n",
    "print(V.shape)\n",
    "cell_len = 25"
   ]
  },
  {
   "cell_type": "code",
   "execution_count": 24,
   "id": "e3ccc4ca-575a-4567-9bb4-ee6b92daf186",
   "metadata": {},
   "outputs": [
    {
     "name": "stdout",
     "output_type": "stream",
     "text": [
      "[\u001b[38;2;128;05;128m2025-02-07 11:43:52,736\u001b[0m] \u001b[38;2;50;50;205m    INFO\u001b[0m\u001b[38;2;112;128;144m    viperlog: \u001b[0m iteration: 0\tloss: 3.6864003050141037e-05 \n",
      "[\u001b[38;2;128;05;128m2025-02-07 11:43:52,738\u001b[0m] \u001b[38;2;50;50;205m    INFO\u001b[0m\u001b[38;2;112;128;144m    viperlog: \u001b[0m Iteration: (0)\tStopping criterion reached: 3.6864003050141037e-05 \n"
     ]
    }
   ],
   "source": [
    "g = solver.solve(\n",
    "    vis=V,\n",
    "    iterations=20,\n",
    "    optimizer=cv.math.optimizer.MeanSquaredError(alpha=0.2),\n",
    "    stopping=1e-3\n",
    ")"
   ]
  },
  {
   "cell_type": "code",
   "execution_count": 25,
   "id": "bbfb7357-35d2-482c-a719-1a5531e93567",
   "metadata": {},
   "outputs": [
    {
     "data": {
      "text/plain": [
       "<matplotlib.collections.PathCollection at 0x14f8f1580>"
      ]
     },
     "execution_count": 25,
     "metadata": {},
     "output_type": "execute_result"
    },
    {
     "data": {
      "image/png": "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",
      "text/plain": [
       "<Figure size 640x480 with 1 Axes>"
      ]
     },
     "metadata": {},
     "output_type": "display_data"
    }
   ],
   "source": [
    "import matplotlib.pyplot as plt\n",
    "\n",
    "t = np.linspace(1, len(solver.losses), len(solver.losses))\n",
    "\n",
    "plt.scatter(solver.losses, t)"
   ]
  },
  {
   "cell_type": "code",
   "execution_count": 26,
   "id": "63f0ea32-45cb-43ad-b347-41a36c62484a",
   "metadata": {},
   "outputs": [
    {
     "data": {
      "text/plain": [
       "array([[[0.08, 0.08, 0.08, 0.08, 0.08, 0.08, 0.08, 0.08, 0.08, 0.08]]],\n",
       "      dtype=float32)"
      ]
     },
     "execution_count": 26,
     "metadata": {},
     "output_type": "execute_result"
    }
   ],
   "source": [
    "np.abs(solver.parameter)"
   ]
  },
  {
   "cell_type": "code",
   "execution_count": 28,
   "id": "d577dd4f-0439-484b-8d49-ec30e2e378ea",
   "metadata": {},
   "outputs": [
    {
     "data": {
      "text/plain": [
       "array([1., 2., 3.])"
      ]
     },
     "execution_count": 28,
     "metadata": {},
     "output_type": "execute_result"
    }
   ],
   "source": [
    "x = np.linspace(1, 3, 3)\n",
    "x"
   ]
  },
  {
   "cell_type": "code",
   "execution_count": null,
   "id": "734643e9-75d3-41e1-9ab7-298809941405",
   "metadata": {},
   "outputs": [],
   "source": []
  },
  {
   "cell_type": "code",
   "execution_count": null,
   "id": "9fdaad0d-0fd6-4e14-bafd-ca6fffc7a5bb",
   "metadata": {},
   "outputs": [],
   "source": []
  }
 ],
 "metadata": {
  "kernelspec": {
   "display_name": "Python 3 (ipykernel)",
   "language": "python",
   "name": "python3"
  },
  "language_info": {
   "codemirror_mode": {
    "name": "ipython",
    "version": 3
   },
   "file_extension": ".py",
   "mimetype": "text/x-python",
   "name": "python",
   "nbconvert_exporter": "python",
   "pygments_lexer": "ipython3",
   "version": "3.12.7"
  }
 },
 "nbformat": 4,
 "nbformat_minor": 5
}
