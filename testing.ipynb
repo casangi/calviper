{
 "cells": [
  {
   "cell_type": "code",
   "execution_count": 1,
   "id": "27576dd1-0204-418e-8bf7-d8cc58c67397",
   "metadata": {},
   "outputs": [],
   "source": [
    "import toolviper\n",
    "import xradio\n",
    "import pathlib\n",
    "import numba\n",
    "\n",
    "import numpy as np\n",
    "import pandas as pd\n",
    "import calviper as cv\n",
    "\n",
    "from xradio import measurement_set as ms"
   ]
  },
  {
   "cell_type": "code",
   "execution_count": 2,
   "id": "bc47abd7-51e9-4f85-ac77-4f00a5caae25",
   "metadata": {},
   "outputs": [
    {
     "data": {
      "text/html": [
       "<style>.container { width:200% !important; }</style>"
      ],
      "text/plain": [
       "<IPython.core.display.HTML object>"
      ]
     },
     "metadata": {},
     "output_type": "display_data"
    }
   ],
   "source": [
    "from IPython.display import display, HTML\n",
    "\n",
    "display(HTML(\"<style>.container { width:200% !important; }</style>\"))"
   ]
  },
  {
   "cell_type": "code",
   "execution_count": 3,
   "id": "d499db1b-ece5-439d-8314-480fd04e3a95",
   "metadata": {},
   "outputs": [],
   "source": [
    "if not pathlib.Path.cwd().joinpath(\"data/gaincaltest2.ps.zarr\").exists():\n",
    "    toolviper.utils.data.download(\"gaincal.test.zarr\", \"data\")"
   ]
  },
  {
   "cell_type": "code",
   "execution_count": 4,
   "id": "868b54cd-e0db-4243-bd26-aee45746b24a",
   "metadata": {},
   "outputs": [
    {
     "data": {
      "text/plain": [
       "(10,)"
      ]
     },
     "execution_count": 4,
     "metadata": {},
     "output_type": "execute_result"
    }
   ],
   "source": [
    "df_gains = pd.read_csv(\"gains.csv\")\n",
    "gains = df_gains.gain.apply(complex).to_numpy()\n",
    "gains.shape"
   ]
  },
  {
   "cell_type": "code",
   "execution_count": 5,
   "id": "5acb93c9-8985-4d0a-b305-b8aa2fd8a8af",
   "metadata": {},
   "outputs": [],
   "source": [
    "df_vis = pd.read_csv(\"vis.csv\")\n",
    "df_vis.drop(columns=[\"Unnamed: 0\"], inplace=True)\n",
    "\n",
    "vis = df_vis.vis.apply(complex).to_numpy()\n",
    "\n",
    "ant_a = df_vis.ant_a.to_numpy()\n",
    "ant_b = df_vis.ant_b.to_numpy()"
   ]
  },
  {
   "cell_type": "code",
   "execution_count": 6,
   "id": "cdef1479-cb2d-486e-adb9-6550f14e8dcf",
   "metadata": {},
   "outputs": [],
   "source": [
    "from calviper.math.loss import mean_squared_error as mse\n",
    "\n",
    "def build_vis(vis, index_a, index_b):\n",
    "    count = 1\n",
    "    \n",
    "    X = np.zeros((10, 10), dtype=complex)\n",
    "\n",
    "    for i in range(45):\n",
    "        m = index_a[i]\n",
    "        n = index_b[i]\n",
    "\n",
    "        X[m, n] = X[m, n]*(count - 1) + vis[i]\n",
    "        X[m, n] = X[m, n]/count\n",
    "\n",
    "        X[n, m] = X[m, n].conj()\n",
    "\n",
    "    return X"
   ]
  },
  {
   "cell_type": "code",
   "execution_count": 7,
   "id": "49ad6a73-c7c8-4cb4-b379-264bdcdd8ddb",
   "metadata": {},
   "outputs": [
    {
     "data": {
      "text/plain": [
       "(10, 10)"
      ]
     },
     "execution_count": 7,
     "metadata": {},
     "output_type": "execute_result"
    }
   ],
   "source": [
    "X = build_vis(vis, ant_a, ant_b)\n",
    "X.shape"
   ]
  },
  {
   "cell_type": "code",
   "execution_count": 8,
   "id": "a8dff2b3-fdbb-40f5-a347-ce651971dc51",
   "metadata": {},
   "outputs": [],
   "source": [
    "solver = cv.math.solver.least_squares.LeastSquaresSolver()"
   ]
  },
  {
   "cell_type": "code",
   "execution_count": 9,
   "id": "fe938bb3-f311-4624-90bf-7c34705646db",
   "metadata": {},
   "outputs": [
    {
     "ename": "ValueError",
     "evalue": "not enough values to unpack (expected 4, got 2)",
     "output_type": "error",
     "traceback": [
      "\u001b[0;31m---------------------------------------------------------------------------\u001b[0m",
      "\u001b[0;31mValueError\u001b[0m                                Traceback (most recent call last)",
      "Cell \u001b[0;32mIn[9], line 1\u001b[0m\n\u001b[0;32m----> 1\u001b[0m g \u001b[38;5;241m=\u001b[39m \u001b[43msolver\u001b[49m\u001b[38;5;241;43m.\u001b[39;49m\u001b[43msolve\u001b[49m\u001b[43m(\u001b[49m\n\u001b[1;32m      2\u001b[0m \u001b[43m    \u001b[49m\u001b[43mvis\u001b[49m\u001b[38;5;241;43m=\u001b[39;49m\u001b[43mX\u001b[49m\u001b[43m,\u001b[49m\n\u001b[1;32m      3\u001b[0m \u001b[43m    \u001b[49m\u001b[43miterations\u001b[49m\u001b[38;5;241;43m=\u001b[39;49m\u001b[38;5;241;43m10\u001b[39;49m\u001b[43m,\u001b[49m\n\u001b[1;32m      4\u001b[0m \u001b[43m    \u001b[49m\u001b[43moptimizer\u001b[49m\u001b[38;5;241;43m=\u001b[39;49m\u001b[43mcv\u001b[49m\u001b[38;5;241;43m.\u001b[39;49m\u001b[43mmath\u001b[49m\u001b[38;5;241;43m.\u001b[39;49m\u001b[43moptimizer\u001b[49m\u001b[38;5;241;43m.\u001b[39;49m\u001b[43mMeanSquaredError\u001b[49m\u001b[43m(\u001b[49m\u001b[43malpha\u001b[49m\u001b[38;5;241;43m=\u001b[39;49m\u001b[38;5;241;43m0.2\u001b[39;49m\u001b[43m)\u001b[49m\u001b[43m,\u001b[49m\n\u001b[1;32m      5\u001b[0m \u001b[43m    \u001b[49m\u001b[43mstopping\u001b[49m\u001b[38;5;241;43m=\u001b[39;49m\u001b[38;5;241;43m1e-2\u001b[39;49m\n\u001b[1;32m      6\u001b[0m \u001b[43m)\u001b[49m\n",
      "File \u001b[0;32m~/Development/calviper/src/calviper/math/solver/least_squares.py:94\u001b[0m, in \u001b[0;36mLeastSquaresSolver.solve\u001b[0;34m(self, vis, iterations, optimizer, stopping)\u001b[0m\n\u001b[1;32m     90\u001b[0m \u001b[38;5;28;01mdef\u001b[39;00m \u001b[38;5;21msolve\u001b[39m(\u001b[38;5;28mself\u001b[39m, vis, iterations, optimizer\u001b[38;5;241m=\u001b[39mMeanSquaredError(), stopping\u001b[38;5;241m=\u001b[39m\u001b[38;5;241m1e-3\u001b[39m):\n\u001b[1;32m     91\u001b[0m     \u001b[38;5;66;03m# This is an attempt to do the solving in a vectorized way\u001b[39;00m\n\u001b[1;32m     92\u001b[0m \n\u001b[1;32m     93\u001b[0m     \u001b[38;5;66;03m# Unpack the shape\u001b[39;00m\n\u001b[0;32m---> 94\u001b[0m     n_channel, n_polarization, n_antenna1, n_antenna2 \u001b[38;5;241m=\u001b[39m vis\u001b[38;5;241m.\u001b[39mshape\n\u001b[1;32m     96\u001b[0m     \u001b[38;5;28;01massert\u001b[39;00m n_antenna1 \u001b[38;5;241m==\u001b[39m n_antenna2, logger\u001b[38;5;241m.\u001b[39merror(\u001b[38;5;124m\"\u001b[39m\u001b[38;5;124mAntenna indices don\u001b[39m\u001b[38;5;124m'\u001b[39m\u001b[38;5;124mt match\u001b[39m\u001b[38;5;124m\"\u001b[39m)\n\u001b[1;32m     98\u001b[0m     \u001b[38;5;28mself\u001b[39m\u001b[38;5;241m.\u001b[39mparameter \u001b[38;5;241m=\u001b[39m np\u001b[38;5;241m.\u001b[39mtile(\u001b[38;5;241m0.1\u001b[39m \u001b[38;5;241m*\u001b[39m np\u001b[38;5;241m.\u001b[39mones(n_antenna1, dtype\u001b[38;5;241m=\u001b[39mnp\u001b[38;5;241m.\u001b[39mcomplex64), reps\u001b[38;5;241m=\u001b[39m[n_channel, n_polarization, \u001b[38;5;241m1\u001b[39m])\n",
      "\u001b[0;31mValueError\u001b[0m: not enough values to unpack (expected 4, got 2)"
     ]
    }
   ],
   "source": [
    "g = solver.solve(\n",
    "    vis=X,\n",
    "    iterations=10,\n",
    "    optimizer=cv.math.optimizer.MeanSquaredError(alpha=0.2),\n",
    "    stopping=1e-2\n",
    ")"
   ]
  },
  {
   "cell_type": "code",
   "execution_count": null,
   "id": "9d70e83d-e18a-47dd-b4c5-ddd26721cd52",
   "metadata": {},
   "outputs": [],
   "source": [
    "ps = ms.open_processing_set(\"data/gaincaltest2.ps.zarr\")\n",
    "\n",
    "sub_ps = ps.sel(intents=\"CALIBRATE_DELAY#ON_SOURCE\", scan_number=2)\n",
    "sub_ps.summary()"
   ]
  },
  {
   "cell_type": "code",
   "execution_count": null,
   "id": "343f09c9-5a90-4943-876f-0057fee9acc9",
   "metadata": {},
   "outputs": [],
   "source": [
    "sps = sub_ps[\"gaincaltest2_0\"]"
   ]
  },
  {
   "cell_type": "code",
   "execution_count": null,
   "id": "da4a4577-a028-4946-8d36-e9e64799ed3f",
   "metadata": {},
   "outputs": [],
   "source": [
    "V = sps.VISIBILITY.mean(dim=\"time\").data.compute()"
   ]
  },
  {
   "cell_type": "code",
   "execution_count": null,
   "id": "28118277-bed8-4d2c-be6c-2f822ce7953c",
   "metadata": {},
   "outputs": [],
   "source": [
    "def build_matrix(vis, index_a, index_b):\n",
    "    length = index_a.shape[0]\n",
    "    \n",
    "    X = np.zeros((length, length), dtype=complex)\n",
    "    \n",
    "    for m in index_a:\n",
    "        for n in index_b[1:]:\n",
    "            X[m, n] = vis[m]\n",
    "            X [n, m] = vis[m].conj()\n",
    "\n",
    "    return X\n",
    "            \n",
    "\n",
    "def counter(n):\n",
    "    counter = 0\n",
    "    for i in range(n):\n",
    "        for j in range(i, n):\n",
    "            if i == j:\n",
    "                continue\n",
    "                \n",
    "            counter += 1\n",
    "\n",
    "    return counter"
   ]
  },
  {
   "cell_type": "code",
   "execution_count": null,
   "id": "d2b92546-84f4-4fc1-8d09-6febcc53a943",
   "metadata": {},
   "outputs": [],
   "source": [
    "#@numba.njit()\n",
    "def build_visibility_matrix(array: np.ndarray, index_a: np.ndarray, index_b: np.ndarray) -> np.ndarray:\n",
    "    \"\"\"\n",
    "    Build a visibility matrix from a visibility array with zeros for autocorrelation.\n",
    "    :param index_b:\n",
    "    :param index_a:\n",
    "    :param array: (numpy.ndarray) visibility array\n",
    "    :return: (np.ndarray) Visibility matrix of dimension N x N.\n",
    "    \"\"\"\n",
    "    # Get the full array length\n",
    "    size = index_a.shape[0]\n",
    "\n",
    "    # Calculate the N X N matrix size needed\n",
    "    dimension = np.unique(index_a).shape[0] + 1\n",
    "\n",
    "    # Build matrix\n",
    "    matrix_ = np.zeros((dimension, dimension), dtype=np.complex64)\n",
    "\n",
    "    for m in range(size):\n",
    "        i = index_a[m]\n",
    "        j = index_b[m]\n",
    "\n",
    "        if i == j:\n",
    "            continue\n",
    "        print(f\"({i}, {j}): {array[m]}\")\n",
    "        #matrix_[i, j] = array[m]\n",
    "        #matrix_[j, i] = np.conj(array[m])\n",
    "\n",
    "    return matrix_"
   ]
  },
  {
   "cell_type": "code",
   "execution_count": null,
   "id": "9c1f3593-91e2-49c1-b9b6-1b48e99c28bc",
   "metadata": {},
   "outputs": [],
   "source": [
    "vis_array = V[:, 0, 0]\n",
    "\n",
    "index_a, _ = cv.math.tools.encode(sps.baseline_antenna1_name.to_numpy())\n",
    "index_b, _ = cv.math.tools.encode(sps.baseline_antenna2_name.to_numpy())\n",
    "\n",
    "V = cv.math.tools.build_visibility_matrix(array=vis_array, index_a=index_a, index_b=index_b)\n",
    "V.shape"
   ]
  },
  {
   "cell_type": "code",
   "execution_count": null,
   "id": "e3ccc4ca-575a-4567-9bb4-ee6b92daf186",
   "metadata": {},
   "outputs": [],
   "source": [
    "g = solver.solve(\n",
    "    vis=V,\n",
    "    iterations=20,\n",
    "    optimizer=cv.math.optimizer.MeanSquaredError(alpha=0.2),\n",
    "    stopping=1e-3\n",
    ")"
   ]
  },
  {
   "cell_type": "code",
   "execution_count": null,
   "id": "bbfb7357-35d2-482c-a719-1a5531e93567",
   "metadata": {},
   "outputs": [],
   "source": [
    "import matplotlib.pyplot as plt\n",
    "\n",
    "t = np.linspace(1, len(solver.losses), len(solver.losses))\n",
    "\n",
    "plt.scatter(solver.losses, t)"
   ]
  },
  {
   "cell_type": "code",
   "execution_count": null,
   "id": "63f0ea32-45cb-43ad-b347-41a36c62484a",
   "metadata": {},
   "outputs": [],
   "source": [
    "np.abs(solver.parameter)"
   ]
  },
  {
   "cell_type": "code",
   "execution_count": null,
   "id": "d577dd4f-0439-484b-8d49-ec30e2e378ea",
   "metadata": {},
   "outputs": [],
   "source": []
  }
 ],
 "metadata": {
  "kernelspec": {
   "display_name": "Python 3 (ipykernel)",
   "language": "python",
   "name": "python3"
  },
  "language_info": {
   "codemirror_mode": {
    "name": "ipython",
    "version": 3
   },
   "file_extension": ".py",
   "mimetype": "text/x-python",
   "name": "python",
   "nbconvert_exporter": "python",
   "pygments_lexer": "ipython3",
   "version": "3.10.16"
  }
 },
 "nbformat": 4,
 "nbformat_minor": 5
}
