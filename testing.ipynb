{
 "cells": [
  {
   "cell_type": "code",
   "execution_count": null,
   "id": "27576dd1-0204-418e-8bf7-d8cc58c67397",
   "metadata": {},
   "outputs": [],
   "source": [
    "import toolviper\n",
    "import xradio\n",
    "import pathlib\n",
    "import numba\n",
    "\n",
    "import numpy as np\n",
    "import pandas as pd\n",
    "import calviper as cv\n",
    "\n",
    "from xradio import measurement_set as ms"
   ]
  },
  {
   "cell_type": "code",
   "execution_count": null,
   "id": "bc47abd7-51e9-4f85-ac77-4f00a5caae25",
   "metadata": {},
   "outputs": [],
   "source": [
    "from IPython.display import display, HTML\n",
    "\n",
    "display(HTML(\"<style>.container { width:200% !important; }</style>\"))"
   ]
  },
  {
   "cell_type": "code",
   "execution_count": null,
   "id": "d499db1b-ece5-439d-8314-480fd04e3a95",
   "metadata": {},
   "outputs": [],
   "source": [
    "if not pathlib.Path.cwd().joinpath(\"data/gaincaltest2.ps.zarr\").exists():\n",
    "    toolviper.utils.data.download(\"gaincal.test.zarr\", \"data\")"
   ]
  },
  {
   "cell_type": "code",
   "execution_count": null,
   "id": "868b54cd-e0db-4243-bd26-aee45746b24a",
   "metadata": {},
   "outputs": [],
   "source": [
    "df_gains = pd.read_csv(\"gains.csv\")\n",
    "gains = df_gains.gain.apply(complex).to_numpy()\n",
    "gains"
   ]
  },
  {
   "cell_type": "code",
   "execution_count": null,
   "id": "5acb93c9-8985-4d0a-b305-b8aa2fd8a8af",
   "metadata": {},
   "outputs": [],
   "source": [
    "df_vis = pd.read_csv(\"vis.csv\")\n",
    "df_vis.drop(columns=[\"Unnamed: 0\"], inplace=True)\n",
    "\n",
    "vis = df_vis.vis.apply(complex).to_numpy()\n",
    "\n",
    "ant_a = df_vis.ant_a.to_numpy()\n",
    "ant_b = df_vis.ant_b.to_numpy()"
   ]
  },
  {
   "cell_type": "code",
   "execution_count": null,
   "id": "cdef1479-cb2d-486e-adb9-6550f14e8dcf",
   "metadata": {},
   "outputs": [],
   "source": [
    "from calviper.math.loss import mean_squared_error as mse\n",
    "\n",
    "def build_vis(vis, index_a, index_b):\n",
    "    count = 1\n",
    "    \n",
    "    X = np.zeros((10, 10), dtype=complex)\n",
    "\n",
    "    for i in range(45):\n",
    "        m = index_a[i]\n",
    "        n = index_b[i]\n",
    "\n",
    "        X[m, n] = X[m, n]*(count - 1) + vis[i]\n",
    "        X[m, n] = X[m, n]/count\n",
    "\n",
    "        X[n, m] = X[m, n].conj()\n",
    "\n",
    "    return X"
   ]
  },
  {
   "cell_type": "code",
   "execution_count": null,
   "id": "49ad6a73-c7c8-4cb4-b379-264bdcdd8ddb",
   "metadata": {},
   "outputs": [],
   "source": [
    "X = build_vis(vis, ant_a, ant_b)"
   ]
  },
  {
   "cell_type": "code",
   "execution_count": null,
   "id": "a8dff2b3-fdbb-40f5-a347-ce651971dc51",
   "metadata": {},
   "outputs": [],
   "source": [
    "solver = cv.math.solver.least_squares.LeastSquaresSolver()"
   ]
  },
  {
   "cell_type": "code",
   "execution_count": null,
   "id": "fe938bb3-f311-4624-90bf-7c34705646db",
   "metadata": {},
   "outputs": [],
   "source": [
    "g = solver.solve(\n",
    "    vis=X,\n",
    "    iterations=10,\n",
    "    optimizer=cv.math.optimizer.MeanSquaredError(alpha=0.2),\n",
    "    stopping=1e-2\n",
    ")"
   ]
  },
  {
   "cell_type": "code",
   "execution_count": null,
   "id": "9d70e83d-e18a-47dd-b4c5-ddd26721cd52",
   "metadata": {},
   "outputs": [],
   "source": [
    "ps = ms.open_processing_set(\"data/gaincaltest2.ps.zarr\")\n",
    "\n",
    "sub_ps = ps.sel(intents=\"CALIBRATE_DELAY#ON_SOURCE\", scan_number=2)\n",
    "sub_ps.summary()"
   ]
  },
  {
   "cell_type": "code",
   "execution_count": null,
   "id": "343f09c9-5a90-4943-876f-0057fee9acc9",
   "metadata": {},
   "outputs": [],
   "source": [
    "sps = sub_ps[\"gaincaltest2_0\"]"
   ]
  },
  {
   "cell_type": "code",
   "execution_count": null,
   "id": "da4a4577-a028-4946-8d36-e9e64799ed3f",
   "metadata": {},
   "outputs": [],
   "source": [
    "V = sps.VISIBILITY.mean(dim=\"time\").data.compute()"
   ]
  },
  {
   "cell_type": "code",
   "execution_count": null,
   "id": "28118277-bed8-4d2c-be6c-2f822ce7953c",
   "metadata": {},
   "outputs": [],
   "source": [
    "def build_matrix(vis, index_a, index_b):\n",
    "    length = index_a.shape[0]\n",
    "    \n",
    "    X = np.zeros((length, length), dtype=complex)\n",
    "    \n",
    "    for m in index_a:\n",
    "        for n in index_b[1:]:\n",
    "            X[m, n] = vis[m]\n",
    "            X [n, m] = vis[m].conj()\n",
    "\n",
    "    return X\n",
    "            \n",
    "\n",
    "def counter(n):\n",
    "    counter = 0\n",
    "    for i in range(n):\n",
    "        for j in range(i, n):\n",
    "            if i == j:\n",
    "                continue\n",
    "                \n",
    "            counter += 1\n",
    "\n",
    "    return counter"
   ]
  },
  {
   "cell_type": "code",
   "execution_count": null,
   "id": "d2b92546-84f4-4fc1-8d09-6febcc53a943",
   "metadata": {},
   "outputs": [],
   "source": [
    "#@numba.njit()\n",
    "def build_visibility_matrix(array: np.ndarray, index_a: np.ndarray, index_b: np.ndarray) -> np.ndarray:\n",
    "    \"\"\"\n",
    "    Build a visibility matrix from a visibility array with zeros for autocorrelation.\n",
    "    :param index_b:\n",
    "    :param index_a:\n",
    "    :param array: (numpy.ndarray) visibility array\n",
    "    :return: (np.ndarray) Visibility matrix of dimension N x N.\n",
    "    \"\"\"\n",
    "    # Get the full array length\n",
    "    size = index_a.shape[0]\n",
    "\n",
    "    # Calculate the N X N matrix size needed\n",
    "    dimension = np.unique(index_a).shape[0] + 1\n",
    "\n",
    "    # Build matrix\n",
    "    matrix_ = np.zeros((dimension, dimension), dtype=np.complex64)\n",
    "\n",
    "    for m in range(size):\n",
    "        i = index_a[m]\n",
    "        j = index_b[m]\n",
    "\n",
    "        if i == j:\n",
    "            continue\n",
    "        print(f\"({i}, {j}): {array[m]}\")\n",
    "        #matrix_[i, j] = array[m]\n",
    "        #matrix_[j, i] = np.conj(array[m])\n",
    "\n",
    "    return matrix_"
   ]
  },
  {
   "cell_type": "code",
   "execution_count": null,
   "id": "9c1f3593-91e2-49c1-b9b6-1b48e99c28bc",
   "metadata": {},
   "outputs": [],
   "source": [
    "vis_array = V[:, 0, 0]\n",
    "\n",
    "index_a = cv.math.tools.encode(sps.baseline_antenna1_name.to_numpy())\n",
    "index_b = cv.math.tools.encode(sps.baseline_antenna2_name.to_numpy())\n",
    "\n",
    "V = cv.math.tools.build_visibility_matrix(array=vis_array, index_a=index_a, index_b=index_b)"
   ]
  },
  {
   "cell_type": "code",
   "execution_count": null,
   "id": "e3ccc4ca-575a-4567-9bb4-ee6b92daf186",
   "metadata": {},
   "outputs": [],
   "source": [
    "g = solver.solve(\n",
    "    vis=V,\n",
    "    iterations=20,\n",
    "    optimizer=cv.math.optimizer.MeanSquaredError(alpha=0.2),\n",
    "    stopping=1e-3\n",
    ")"
   ]
  },
  {
   "cell_type": "code",
   "execution_count": null,
   "id": "bbfb7357-35d2-482c-a719-1a5531e93567",
   "metadata": {},
   "outputs": [],
   "source": [
    "import matplotlib.pyplot as plt\n",
    "\n",
    "t = np.linspace(1, len(solver.losses), len(solver.losses))\n",
    "\n",
    "plt.scatter(solver.losses, t)"
   ]
  },
  {
   "cell_type": "code",
   "execution_count": null,
   "id": "63f0ea32-45cb-43ad-b347-41a36c62484a",
   "metadata": {},
   "outputs": [],
   "source": [
    "np.abs(solver.parameter)"
   ]
  },
  {
   "cell_type": "code",
   "execution_count": null,
   "id": "d577dd4f-0439-484b-8d49-ec30e2e378ea",
   "metadata": {},
   "outputs": [],
   "source": []
  }
 ],
 "metadata": {
  "kernelspec": {
   "display_name": "Python 3 (ipykernel)",
   "language": "python",
   "name": "python3"
  },
  "language_info": {
   "codemirror_mode": {
    "name": "ipython",
    "version": 3
   },
   "file_extension": ".py",
   "mimetype": "text/x-python",
   "name": "python",
   "nbconvert_exporter": "python",
   "pygments_lexer": "ipython3",
   "version": "3.10.16"
  }
 },
 "nbformat": 4,
 "nbformat_minor": 5
}
