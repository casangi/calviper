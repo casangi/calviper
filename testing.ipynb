{
 "cells": [
  {
   "cell_type": "code",
   "execution_count": 1,
   "id": "27576dd1-0204-418e-8bf7-d8cc58c67397",
   "metadata": {},
   "outputs": [],
   "source": [
    "import toolviper\n",
    "import xradio\n",
    "import pathlib\n",
    "import numba\n",
    "\n",
    "import numpy as np\n",
    "import pandas as pd\n",
    "import calviper as cv\n",
    "\n",
    "from xradio import measurement_set as ms"
   ]
  },
  {
   "cell_type": "code",
   "execution_count": 2,
   "id": "bc47abd7-51e9-4f85-ac77-4f00a5caae25",
   "metadata": {},
   "outputs": [
    {
     "data": {
      "text/html": [
       "<style>.container { width:200% !important; }</style>"
      ],
      "text/plain": [
       "<IPython.core.display.HTML object>"
      ]
     },
     "metadata": {},
     "output_type": "display_data"
    }
   ],
   "source": [
    "from IPython.display import display, HTML\n",
    "\n",
    "display(HTML(\"<style>.container { width:200% !important; }</style>\"))"
   ]
  },
  {
   "cell_type": "code",
   "execution_count": 3,
   "id": "d499db1b-ece5-439d-8314-480fd04e3a95",
   "metadata": {},
   "outputs": [],
   "source": [
    "if not pathlib.Path.cwd().joinpath(\"data/gaincaltest2.ps.zarr\").exists():\n",
    "    toolviper.utils.data.download(\"gaincal.test.zarr\", \"data\")"
   ]
  },
  {
   "cell_type": "code",
   "execution_count": 4,
   "id": "868b54cd-e0db-4243-bd26-aee45746b24a",
   "metadata": {},
   "outputs": [
    {
     "data": {
      "text/plain": [
       "array([-0.63455564+0.47076233j,  1.15841049-0.81354628j,\n",
       "        1.32849216+0.20964037j,  0.7710231 +0.13511301j,\n",
       "        0.42394351-0.64036523j,  0.17546983-1.09119839j,\n",
       "        0.41194325-0.57720941j, -0.00666993+0.52208018j,\n",
       "        0.25330102-0.93767723j,  1.12460157+0.44485419j])"
      ]
     },
     "execution_count": 4,
     "metadata": {},
     "output_type": "execute_result"
    }
   ],
   "source": [
    "df_gains = pd.read_csv(\"gains.csv\")\n",
    "gains = df_gains.gain.apply(complex).to_numpy()\n",
    "gains"
   ]
  },
  {
   "cell_type": "code",
   "execution_count": 5,
   "id": "5acb93c9-8985-4d0a-b305-b8aa2fd8a8af",
   "metadata": {},
   "outputs": [],
   "source": [
    "df_vis = pd.read_csv(\"vis.csv\")\n",
    "df_vis.drop(columns=[\"Unnamed: 0\"], inplace=True)\n",
    "\n",
    "vis = df_vis.vis.apply(complex).to_numpy()\n",
    "\n",
    "ant_a = df_vis.ant_a.to_numpy()\n",
    "ant_b = df_vis.ant_b.to_numpy()"
   ]
  },
  {
   "cell_type": "code",
   "execution_count": 6,
   "id": "cdef1479-cb2d-486e-adb9-6550f14e8dcf",
   "metadata": {},
   "outputs": [],
   "source": [
    "from calviper.math.loss import mean_squared_error as mse\n",
    "\n",
    "def build_vis(vis, index_a, index_b):\n",
    "    count = 1\n",
    "    \n",
    "    X = np.zeros((10, 10), dtype=complex)\n",
    "\n",
    "    for i in range(45):\n",
    "        m = index_a[i]\n",
    "        n = index_b[i]\n",
    "\n",
    "        X[m, n] = X[m, n]*(count - 1) + vis[i]\n",
    "        X[m, n] = X[m, n]/count\n",
    "\n",
    "        X[n, m] = X[m, n].conj()\n",
    "\n",
    "    return X"
   ]
  },
  {
   "cell_type": "code",
   "execution_count": 7,
   "id": "49ad6a73-c7c8-4cb4-b379-264bdcdd8ddb",
   "metadata": {},
   "outputs": [],
   "source": [
    "X = build_vis(vis, ant_a, ant_b)"
   ]
  },
  {
   "cell_type": "code",
   "execution_count": 8,
   "id": "a8dff2b3-fdbb-40f5-a347-ce651971dc51",
   "metadata": {},
   "outputs": [],
   "source": [
    "solver = cv.math.solver.least_squares.LeastSquaresSolver()"
   ]
  },
  {
   "cell_type": "code",
   "execution_count": 9,
   "id": "fe938bb3-f311-4624-90bf-7c34705646db",
   "metadata": {},
   "outputs": [
    {
     "name": "stdout",
     "output_type": "stream",
     "text": [
      "[\u001b[38;2;128;05;128m2024-12-19 18:54:42,480\u001b[0m] \u001b[38;2;50;50;205m    INFO\u001b[0m\u001b[38;2;112;128;144m    viperlog: \u001b[0m Iteration: (5)\tStopping criterion reached: 0.009207611105772 \n"
     ]
    }
   ],
   "source": [
    "g = solver.solve(\n",
    "    vis=X,\n",
    "    iterations=10,\n",
    "    optimizer=cv.math.optimizer.MeanSquaredError(alpha=0.2),\n",
    "    stopping=1e-2\n",
    ")"
   ]
  },
  {
   "cell_type": "code",
   "execution_count": 10,
   "id": "9d70e83d-e18a-47dd-b4c5-ddd26721cd52",
   "metadata": {},
   "outputs": [
    {
     "data": {
      "text/html": [
       "<div>\n",
       "<style scoped>\n",
       "    .dataframe tbody tr th:only-of-type {\n",
       "        vertical-align: middle;\n",
       "    }\n",
       "\n",
       "    .dataframe tbody tr th {\n",
       "        vertical-align: top;\n",
       "    }\n",
       "\n",
       "    .dataframe thead th {\n",
       "        text-align: right;\n",
       "    }\n",
       "</style>\n",
       "<table border=\"1\" class=\"dataframe\">\n",
       "  <thead>\n",
       "    <tr style=\"text-align: right;\">\n",
       "      <th></th>\n",
       "      <th>name</th>\n",
       "      <th>intents</th>\n",
       "      <th>shape</th>\n",
       "      <th>polarization</th>\n",
       "      <th>scan_number</th>\n",
       "      <th>spw_name</th>\n",
       "      <th>field_name</th>\n",
       "      <th>source_name</th>\n",
       "      <th>line_name</th>\n",
       "      <th>field_coords</th>\n",
       "      <th>start_frequency</th>\n",
       "      <th>end_frequency</th>\n",
       "    </tr>\n",
       "  </thead>\n",
       "  <tbody>\n",
       "    <tr>\n",
       "      <th>1</th>\n",
       "      <td>gaincaltest2_0</td>\n",
       "      <td>[CALIBRATE_DELAY#ON_SOURCE, CALIBRATE_PHASE#ON...</td>\n",
       "      <td>(957, 45, 8, 4)</td>\n",
       "      <td>[XX, XY, YX, YY]</td>\n",
       "      <td>[2, 4, 6, 9, 11, 14, 16, 18, 21, 23, 26]</td>\n",
       "      <td>X0000000000#ALMA_RB_03#BB_1#SW-01#FULL_RES_0</td>\n",
       "      <td>[J2255-3500_0]</td>\n",
       "      <td>[J2255-3500_0]</td>\n",
       "      <td>[]</td>\n",
       "      <td>[icrs, 22h55m57.68s, -35d00m00.00s]</td>\n",
       "      <td>8.607155e+10</td>\n",
       "      <td>8.629030e+10</td>\n",
       "    </tr>\n",
       "    <tr>\n",
       "      <th>0</th>\n",
       "      <td>gaincaltest2_2</td>\n",
       "      <td>[CALIBRATE_DELAY#ON_SOURCE, CALIBRATE_PHASE#ON...</td>\n",
       "      <td>(957, 45, 8, 4)</td>\n",
       "      <td>[XX, XY, YX, YY]</td>\n",
       "      <td>[2, 4, 6, 9, 11, 14, 16, 18, 21, 23, 26]</td>\n",
       "      <td>X0000000000#ALMA_RB_03#BB_2#SW-01#FULL_RES_1</td>\n",
       "      <td>[J2255-3500_0]</td>\n",
       "      <td>[J2255-3500_0]</td>\n",
       "      <td>[]</td>\n",
       "      <td>[icrs, 22h55m57.68s, -35d00m00.00s]</td>\n",
       "      <td>8.794655e+10</td>\n",
       "      <td>8.816530e+10</td>\n",
       "    </tr>\n",
       "    <tr>\n",
       "      <th>3</th>\n",
       "      <td>gaincaltest2_4</td>\n",
       "      <td>[CALIBRATE_DELAY#ON_SOURCE, CALIBRATE_PHASE#ON...</td>\n",
       "      <td>(957, 45, 8, 4)</td>\n",
       "      <td>[XX, XY, YX, YY]</td>\n",
       "      <td>[2, 4, 6, 9, 11, 14, 16, 18, 21, 23, 26]</td>\n",
       "      <td>X0000000000#ALMA_RB_03#BB_3#SW-01#FULL_RES_2</td>\n",
       "      <td>[J2255-3500_0]</td>\n",
       "      <td>[J2255-3500_0]</td>\n",
       "      <td>[]</td>\n",
       "      <td>[icrs, 22h55m57.68s, -35d00m00.00s]</td>\n",
       "      <td>9.632156e+10</td>\n",
       "      <td>9.654030e+10</td>\n",
       "    </tr>\n",
       "    <tr>\n",
       "      <th>2</th>\n",
       "      <td>gaincaltest2_6</td>\n",
       "      <td>[CALIBRATE_DELAY#ON_SOURCE, CALIBRATE_PHASE#ON...</td>\n",
       "      <td>(957, 45, 8, 4)</td>\n",
       "      <td>[XX, XY, YX, YY]</td>\n",
       "      <td>[2, 4, 6, 9, 11, 14, 16, 18, 21, 23, 26]</td>\n",
       "      <td>X0000000000#ALMA_RB_03#BB_4#SW-01#FULL_RES_3</td>\n",
       "      <td>[J2255-3500_0]</td>\n",
       "      <td>[J2255-3500_0]</td>\n",
       "      <td>[]</td>\n",
       "      <td>[icrs, 22h55m57.68s, -35d00m00.00s]</td>\n",
       "      <td>9.819656e+10</td>\n",
       "      <td>9.841530e+10</td>\n",
       "    </tr>\n",
       "  </tbody>\n",
       "</table>\n",
       "</div>"
      ],
      "text/plain": [
       "             name                                            intents  \\\n",
       "1  gaincaltest2_0  [CALIBRATE_DELAY#ON_SOURCE, CALIBRATE_PHASE#ON...   \n",
       "0  gaincaltest2_2  [CALIBRATE_DELAY#ON_SOURCE, CALIBRATE_PHASE#ON...   \n",
       "3  gaincaltest2_4  [CALIBRATE_DELAY#ON_SOURCE, CALIBRATE_PHASE#ON...   \n",
       "2  gaincaltest2_6  [CALIBRATE_DELAY#ON_SOURCE, CALIBRATE_PHASE#ON...   \n",
       "\n",
       "             shape      polarization  \\\n",
       "1  (957, 45, 8, 4)  [XX, XY, YX, YY]   \n",
       "0  (957, 45, 8, 4)  [XX, XY, YX, YY]   \n",
       "3  (957, 45, 8, 4)  [XX, XY, YX, YY]   \n",
       "2  (957, 45, 8, 4)  [XX, XY, YX, YY]   \n",
       "\n",
       "                                scan_number  \\\n",
       "1  [2, 4, 6, 9, 11, 14, 16, 18, 21, 23, 26]   \n",
       "0  [2, 4, 6, 9, 11, 14, 16, 18, 21, 23, 26]   \n",
       "3  [2, 4, 6, 9, 11, 14, 16, 18, 21, 23, 26]   \n",
       "2  [2, 4, 6, 9, 11, 14, 16, 18, 21, 23, 26]   \n",
       "\n",
       "                                       spw_name      field_name  \\\n",
       "1  X0000000000#ALMA_RB_03#BB_1#SW-01#FULL_RES_0  [J2255-3500_0]   \n",
       "0  X0000000000#ALMA_RB_03#BB_2#SW-01#FULL_RES_1  [J2255-3500_0]   \n",
       "3  X0000000000#ALMA_RB_03#BB_3#SW-01#FULL_RES_2  [J2255-3500_0]   \n",
       "2  X0000000000#ALMA_RB_03#BB_4#SW-01#FULL_RES_3  [J2255-3500_0]   \n",
       "\n",
       "      source_name line_name                         field_coords  \\\n",
       "1  [J2255-3500_0]        []  [icrs, 22h55m57.68s, -35d00m00.00s]   \n",
       "0  [J2255-3500_0]        []  [icrs, 22h55m57.68s, -35d00m00.00s]   \n",
       "3  [J2255-3500_0]        []  [icrs, 22h55m57.68s, -35d00m00.00s]   \n",
       "2  [J2255-3500_0]        []  [icrs, 22h55m57.68s, -35d00m00.00s]   \n",
       "\n",
       "   start_frequency  end_frequency  \n",
       "1     8.607155e+10   8.629030e+10  \n",
       "0     8.794655e+10   8.816530e+10  \n",
       "3     9.632156e+10   9.654030e+10  \n",
       "2     9.819656e+10   9.841530e+10  "
      ]
     },
     "execution_count": 10,
     "metadata": {},
     "output_type": "execute_result"
    }
   ],
   "source": [
    "ps = ms.open_processing_set(\"data/gaincaltest2.ps.zarr\")\n",
    "\n",
    "sub_ps = ps.sel(intents=\"CALIBRATE_DELAY#ON_SOURCE\", scan_number=2)\n",
    "sub_ps.summary()"
   ]
  },
  {
   "cell_type": "code",
   "execution_count": 11,
   "id": "343f09c9-5a90-4943-876f-0057fee9acc9",
   "metadata": {},
   "outputs": [],
   "source": [
    "sps = sub_ps[\"gaincaltest2_0\"]"
   ]
  },
  {
   "cell_type": "code",
   "execution_count": 12,
   "id": "da4a4577-a028-4946-8d36-e9e64799ed3f",
   "metadata": {},
   "outputs": [],
   "source": [
    "V = sps.VISIBILITY.mean(dim=\"time\").data.compute()"
   ]
  },
  {
   "cell_type": "code",
   "execution_count": 13,
   "id": "28118277-bed8-4d2c-be6c-2f822ce7953c",
   "metadata": {},
   "outputs": [],
   "source": [
    "def build_matrix(vis, index_a, index_b):\n",
    "    length = index_a.shape[0]\n",
    "    \n",
    "    X = np.zeros((length, length), dtype=complex)\n",
    "    \n",
    "    for m in index_a:\n",
    "        for n in index_b[1:]:\n",
    "            X[m, n] = vis[m]\n",
    "            X [n, m] = vis[m].conj()\n",
    "\n",
    "    return X\n",
    "            \n",
    "\n",
    "def counter(n):\n",
    "    counter = 0\n",
    "    for i in range(n):\n",
    "        for j in range(i, n):\n",
    "            if i == j:\n",
    "                continue\n",
    "                \n",
    "            counter += 1\n",
    "\n",
    "    return counter"
   ]
  },
  {
   "cell_type": "code",
   "execution_count": 14,
   "id": "d2b92546-84f4-4fc1-8d09-6febcc53a943",
   "metadata": {},
   "outputs": [],
   "source": [
    "#@numba.njit()\n",
    "def build_visibility_matrix(array: np.ndarray, index_a: np.ndarray, index_b: np.ndarray) -> np.ndarray:\n",
    "    \"\"\"\n",
    "    Build a visibility matrix from a visibility array with zeros for autocorrelation.\n",
    "    :param index_b:\n",
    "    :param index_a:\n",
    "    :param array: (numpy.ndarray) visibility array\n",
    "    :return: (np.ndarray) Visibility matrix of dimension N x N.\n",
    "    \"\"\"\n",
    "    # Get the full array length\n",
    "    size = index_a.shape[0]\n",
    "\n",
    "    # Calculate the N X N matrix size needed\n",
    "    dimension = np.unique(index_a).shape[0] + 1\n",
    "\n",
    "    # Build matrix\n",
    "    matrix_ = np.zeros((dimension, dimension), dtype=np.complex64)\n",
    "\n",
    "    for m in range(size):\n",
    "        i = index_a[m]\n",
    "        j = index_b[m]\n",
    "\n",
    "        if i == j:\n",
    "            continue\n",
    "        print(f\"({i}, {j}): {array[m]}\")\n",
    "        #matrix_[i, j] = array[m]\n",
    "        #matrix_[j, i] = np.conj(array[m])\n",
    "\n",
    "    return matrix_"
   ]
  },
  {
   "cell_type": "code",
   "execution_count": 15,
   "id": "9c1f3593-91e2-49c1-b9b6-1b48e99c28bc",
   "metadata": {},
   "outputs": [],
   "source": [
    "vis_array = V[:, 0, 0]\n",
    "\n",
    "index_a, _ = cv.math.tools.encode(sps.baseline_antenna1_name.to_numpy())\n",
    "index_b, _ = cv.math.tools.encode(sps.baseline_antenna2_name.to_numpy())\n",
    "\n",
    "V = cv.math.tools.build_visibility_matrix(array=vis_array, index_a=index_a, index_b=index_b)"
   ]
  },
  {
   "cell_type": "code",
   "execution_count": null,
   "id": "e3ccc4ca-575a-4567-9bb4-ee6b92daf186",
   "metadata": {},
   "outputs": [],
   "source": [
    "g = solver.solve(\n",
    "    vis=V,\n",
    "    iterations=20,\n",
    "    optimizer=cv.math.optimizer.MeanSquaredError(alpha=0.2),\n",
    "    stopping=1e-3\n",
    ")"
   ]
  },
  {
   "cell_type": "code",
   "execution_count": null,
   "id": "bbfb7357-35d2-482c-a719-1a5531e93567",
   "metadata": {},
   "outputs": [],
   "source": [
    "import matplotlib.pyplot as plt\n",
    "\n",
    "t = np.linspace(1, len(solver.losses), len(solver.losses))\n",
    "\n",
    "plt.scatter(solver.losses, t)"
   ]
  },
  {
   "cell_type": "code",
   "execution_count": null,
   "id": "63f0ea32-45cb-43ad-b347-41a36c62484a",
   "metadata": {},
   "outputs": [],
   "source": [
    "np.abs(solver.parameter)"
   ]
  },
  {
   "cell_type": "code",
   "execution_count": null,
   "id": "d577dd4f-0439-484b-8d49-ec30e2e378ea",
   "metadata": {},
   "outputs": [],
   "source": []
  }
 ],
 "metadata": {
  "kernelspec": {
   "display_name": "Python 3 (ipykernel)",
   "language": "python",
   "name": "python3"
  },
  "language_info": {
   "codemirror_mode": {
    "name": "ipython",
    "version": 3
   },
   "file_extension": ".py",
   "mimetype": "text/x-python",
   "name": "python",
   "nbconvert_exporter": "python",
   "pygments_lexer": "ipython3",
   "version": "3.10.16"
  }
 },
 "nbformat": 4,
 "nbformat_minor": 5
}
