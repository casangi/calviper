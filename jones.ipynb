{
 "cells": [
  {
   "cell_type": "code",
   "execution_count": 1,
   "id": "b75de828-c739-476f-aad5-a6b01e53aef7",
   "metadata": {},
   "outputs": [],
   "source": [
    "import toolviper\n",
    "import xradio\n",
    "import pathlib\n",
    "import numba\n",
    "\n",
    "import numpy as np\n",
    "import pandas as pd\n",
    "import calviper as cv\n",
    "\n",
    "from xradio import measurement_set as ms"
   ]
  },
  {
   "cell_type": "code",
   "execution_count": 2,
   "id": "6ed9a29d-367e-46ec-ab9d-ac55cfcfad6e",
   "metadata": {},
   "outputs": [],
   "source": [
    "if not pathlib.Path.cwd().joinpath(\"data/gaincaltest2.ps.zarr\").exists():\n",
    "    toolviper.utils.data.download(\"gaincal.test.zarr\", \"data\")"
   ]
  },
  {
   "cell_type": "code",
   "execution_count": 3,
   "id": "d9493256-8a80-4bee-ae5e-c4145627b157",
   "metadata": {},
   "outputs": [
    {
     "data": {
      "text/html": [
       "<div>\n",
       "<style scoped>\n",
       "    .dataframe tbody tr th:only-of-type {\n",
       "        vertical-align: middle;\n",
       "    }\n",
       "\n",
       "    .dataframe tbody tr th {\n",
       "        vertical-align: top;\n",
       "    }\n",
       "\n",
       "    .dataframe thead th {\n",
       "        text-align: right;\n",
       "    }\n",
       "</style>\n",
       "<table border=\"1\" class=\"dataframe\">\n",
       "  <thead>\n",
       "    <tr style=\"text-align: right;\">\n",
       "      <th></th>\n",
       "      <th>name</th>\n",
       "      <th>intents</th>\n",
       "      <th>shape</th>\n",
       "      <th>polarization</th>\n",
       "      <th>scan_number</th>\n",
       "      <th>spw_name</th>\n",
       "      <th>field_name</th>\n",
       "      <th>source_name</th>\n",
       "      <th>line_name</th>\n",
       "      <th>field_coords</th>\n",
       "      <th>start_frequency</th>\n",
       "      <th>end_frequency</th>\n",
       "    </tr>\n",
       "  </thead>\n",
       "  <tbody>\n",
       "    <tr>\n",
       "      <th>1</th>\n",
       "      <td>gaincaltest2_0</td>\n",
       "      <td>[CALIBRATE_DELAY#ON_SOURCE, CALIBRATE_PHASE#ON...</td>\n",
       "      <td>(957, 45, 8, 4)</td>\n",
       "      <td>[XX, XY, YX, YY]</td>\n",
       "      <td>[2, 4, 6, 9, 11, 14, 16, 18, 21, 23, 26]</td>\n",
       "      <td>X0000000000#ALMA_RB_03#BB_1#SW-01#FULL_RES_0</td>\n",
       "      <td>[J2255-3500_0]</td>\n",
       "      <td>[J2255-3500_0]</td>\n",
       "      <td>[]</td>\n",
       "      <td>[icrs, 22h55m57.68s, -35d00m00.00s]</td>\n",
       "      <td>8.607155e+10</td>\n",
       "      <td>8.629030e+10</td>\n",
       "    </tr>\n",
       "    <tr>\n",
       "      <th>0</th>\n",
       "      <td>gaincaltest2_2</td>\n",
       "      <td>[CALIBRATE_DELAY#ON_SOURCE, CALIBRATE_PHASE#ON...</td>\n",
       "      <td>(957, 45, 8, 4)</td>\n",
       "      <td>[XX, XY, YX, YY]</td>\n",
       "      <td>[2, 4, 6, 9, 11, 14, 16, 18, 21, 23, 26]</td>\n",
       "      <td>X0000000000#ALMA_RB_03#BB_2#SW-01#FULL_RES_1</td>\n",
       "      <td>[J2255-3500_0]</td>\n",
       "      <td>[J2255-3500_0]</td>\n",
       "      <td>[]</td>\n",
       "      <td>[icrs, 22h55m57.68s, -35d00m00.00s]</td>\n",
       "      <td>8.794655e+10</td>\n",
       "      <td>8.816530e+10</td>\n",
       "    </tr>\n",
       "    <tr>\n",
       "      <th>3</th>\n",
       "      <td>gaincaltest2_4</td>\n",
       "      <td>[CALIBRATE_DELAY#ON_SOURCE, CALIBRATE_PHASE#ON...</td>\n",
       "      <td>(957, 45, 8, 4)</td>\n",
       "      <td>[XX, XY, YX, YY]</td>\n",
       "      <td>[2, 4, 6, 9, 11, 14, 16, 18, 21, 23, 26]</td>\n",
       "      <td>X0000000000#ALMA_RB_03#BB_3#SW-01#FULL_RES_2</td>\n",
       "      <td>[J2255-3500_0]</td>\n",
       "      <td>[J2255-3500_0]</td>\n",
       "      <td>[]</td>\n",
       "      <td>[icrs, 22h55m57.68s, -35d00m00.00s]</td>\n",
       "      <td>9.632156e+10</td>\n",
       "      <td>9.654030e+10</td>\n",
       "    </tr>\n",
       "    <tr>\n",
       "      <th>2</th>\n",
       "      <td>gaincaltest2_6</td>\n",
       "      <td>[CALIBRATE_DELAY#ON_SOURCE, CALIBRATE_PHASE#ON...</td>\n",
       "      <td>(957, 45, 8, 4)</td>\n",
       "      <td>[XX, XY, YX, YY]</td>\n",
       "      <td>[2, 4, 6, 9, 11, 14, 16, 18, 21, 23, 26]</td>\n",
       "      <td>X0000000000#ALMA_RB_03#BB_4#SW-01#FULL_RES_3</td>\n",
       "      <td>[J2255-3500_0]</td>\n",
       "      <td>[J2255-3500_0]</td>\n",
       "      <td>[]</td>\n",
       "      <td>[icrs, 22h55m57.68s, -35d00m00.00s]</td>\n",
       "      <td>9.819656e+10</td>\n",
       "      <td>9.841530e+10</td>\n",
       "    </tr>\n",
       "  </tbody>\n",
       "</table>\n",
       "</div>"
      ],
      "text/plain": [
       "             name                                            intents  \\\n",
       "1  gaincaltest2_0  [CALIBRATE_DELAY#ON_SOURCE, CALIBRATE_PHASE#ON...   \n",
       "0  gaincaltest2_2  [CALIBRATE_DELAY#ON_SOURCE, CALIBRATE_PHASE#ON...   \n",
       "3  gaincaltest2_4  [CALIBRATE_DELAY#ON_SOURCE, CALIBRATE_PHASE#ON...   \n",
       "2  gaincaltest2_6  [CALIBRATE_DELAY#ON_SOURCE, CALIBRATE_PHASE#ON...   \n",
       "\n",
       "             shape      polarization  \\\n",
       "1  (957, 45, 8, 4)  [XX, XY, YX, YY]   \n",
       "0  (957, 45, 8, 4)  [XX, XY, YX, YY]   \n",
       "3  (957, 45, 8, 4)  [XX, XY, YX, YY]   \n",
       "2  (957, 45, 8, 4)  [XX, XY, YX, YY]   \n",
       "\n",
       "                                scan_number  \\\n",
       "1  [2, 4, 6, 9, 11, 14, 16, 18, 21, 23, 26]   \n",
       "0  [2, 4, 6, 9, 11, 14, 16, 18, 21, 23, 26]   \n",
       "3  [2, 4, 6, 9, 11, 14, 16, 18, 21, 23, 26]   \n",
       "2  [2, 4, 6, 9, 11, 14, 16, 18, 21, 23, 26]   \n",
       "\n",
       "                                       spw_name      field_name  \\\n",
       "1  X0000000000#ALMA_RB_03#BB_1#SW-01#FULL_RES_0  [J2255-3500_0]   \n",
       "0  X0000000000#ALMA_RB_03#BB_2#SW-01#FULL_RES_1  [J2255-3500_0]   \n",
       "3  X0000000000#ALMA_RB_03#BB_3#SW-01#FULL_RES_2  [J2255-3500_0]   \n",
       "2  X0000000000#ALMA_RB_03#BB_4#SW-01#FULL_RES_3  [J2255-3500_0]   \n",
       "\n",
       "      source_name line_name                         field_coords  \\\n",
       "1  [J2255-3500_0]        []  [icrs, 22h55m57.68s, -35d00m00.00s]   \n",
       "0  [J2255-3500_0]        []  [icrs, 22h55m57.68s, -35d00m00.00s]   \n",
       "3  [J2255-3500_0]        []  [icrs, 22h55m57.68s, -35d00m00.00s]   \n",
       "2  [J2255-3500_0]        []  [icrs, 22h55m57.68s, -35d00m00.00s]   \n",
       "\n",
       "   start_frequency  end_frequency  \n",
       "1     8.607155e+10   8.629030e+10  \n",
       "0     8.794655e+10   8.816530e+10  \n",
       "3     9.632156e+10   9.654030e+10  \n",
       "2     9.819656e+10   9.841530e+10  "
      ]
     },
     "execution_count": 3,
     "metadata": {},
     "output_type": "execute_result"
    }
   ],
   "source": [
    "ps = ms.open_processing_set(\"data/gaincaltest2.ps.zarr\")\n",
    "\n",
    "sub_ps = ps.sel(intents=\"CALIBRATE_DELAY#ON_SOURCE\", scan_number=2)\n",
    "sub_ps.summary()"
   ]
  },
  {
   "cell_type": "code",
   "execution_count": 4,
   "id": "0613dde0-351b-4c16-a775-206029bb91ae",
   "metadata": {},
   "outputs": [],
   "source": [
    "dataset = sub_ps[\"gaincaltest2_0\"]"
   ]
  },
  {
   "cell_type": "code",
   "execution_count": null,
   "id": "79e116f8-09d8-4151-b30a-ada716b467f3",
   "metadata": {},
   "outputs": [],
   "source": [
    "V = sps.VISIBILITY.mean(dim=\"time\").data.compute()"
   ]
  },
  {
   "cell_type": "code",
   "execution_count": null,
   "id": "4dc7448f-20ab-4eca-9e8c-11eba2e971ca",
   "metadata": {},
   "outputs": [],
   "source": [
    "s = sps.VISIBILITY.shape\n",
    "s"
   ]
  },
  {
   "cell_type": "code",
   "execution_count": null,
   "id": "0aa8f93c-b00b-402f-9574-fe3f80a4c054",
   "metadata": {},
   "outputs": [],
   "source": [
    "def from_vis(dataset):\n",
    "    shape = dataset.VISIBILITY.shape\n",
    "\n",
    "    # There should be a gain value for each independent antenna. Here we choose antennai names but either\n",
    "    # would work fine.\n",
    "    n_parameters = np.unique(dataset.baseline_antenna1_name).shape[0]\n",
    "    \n",
    "    \n",
    "    identity = np.identity(n_parameters, dtype=np.complex64)\n",
    "\n",
    "    return np.tile(identity, reps=[*shape, 1, 1])"
   ]
  },
  {
   "cell_type": "code",
   "execution_count": 5,
   "id": "0ce2493e-0c7e-4e6f-9711-5b63df1973ef",
   "metadata": {},
   "outputs": [
    {
     "ename": "AttributeError",
     "evalue": "module 'calviper.jones' has no attribute 'from_visibility'",
     "output_type": "error",
     "traceback": [
      "\u001b[0;31m---------------------------------------------------------------------------\u001b[0m",
      "\u001b[0;31mAttributeError\u001b[0m                            Traceback (most recent call last)",
      "Cell \u001b[0;32mIn[5], line 1\u001b[0m\n\u001b[0;32m----> 1\u001b[0m \u001b[43mcv\u001b[49m\u001b[38;5;241;43m.\u001b[39;49m\u001b[43mjones\u001b[49m\u001b[38;5;241;43m.\u001b[39;49m\u001b[43mfrom_visibility\u001b[49m(dataset\u001b[38;5;241m=\u001b[39mdataset)\n",
      "\u001b[0;31mAttributeError\u001b[0m: module 'calviper.jones' has no attribute 'from_visibility'"
     ]
    }
   ],
   "source": [
    "cv.jones.Gafrom_visibility(dataset=dataset)"
   ]
  },
  {
   "cell_type": "code",
   "execution_count": null,
   "id": "b590851a-7915-48d4-a3ab-9d38b8bdb284",
   "metadata": {},
   "outputs": [],
   "source": []
  }
 ],
 "metadata": {
  "kernelspec": {
   "display_name": "Python 3 (ipykernel)",
   "language": "python",
   "name": "python3"
  },
  "language_info": {
   "codemirror_mode": {
    "name": "ipython",
    "version": 3
   },
   "file_extension": ".py",
   "mimetype": "text/x-python",
   "name": "python",
   "nbconvert_exporter": "python",
   "pygments_lexer": "ipython3",
   "version": "3.10.16"
  }
 },
 "nbformat": 4,
 "nbformat_minor": 5
}
