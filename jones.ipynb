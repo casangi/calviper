{
 "cells": [
  {
   "cell_type": "code",
   "execution_count": 1,
   "id": "5076dee4-776f-427e-b790-ce440f171cbe",
   "metadata": {},
   "outputs": [],
   "source": [
    "!python -m pip install -e . >> /dev/null"
   ]
  },
  {
   "cell_type": "code",
   "execution_count": 2,
   "id": "b75de828-c739-476f-aad5-a6b01e53aef7",
   "metadata": {},
   "outputs": [],
   "source": [
    "import toolviper\n",
    "import xradio\n",
    "import pathlib\n",
    "import numba\n",
    "\n",
    "import numpy as np\n",
    "import pandas as pd\n",
    "import calviper as cv\n",
    "import matplotlib.pyplot as plt\n",
    "\n",
    "from xradio import measurement_set as ms"
   ]
  },
  {
   "cell_type": "code",
   "execution_count": 3,
   "id": "6ed9a29d-367e-46ec-ab9d-ac55cfcfad6e",
   "metadata": {},
   "outputs": [],
   "source": [
    "if not pathlib.Path.cwd().joinpath(\"data/gaincaltest2.ps.zarr\").exists():\n",
    "    toolviper.utils.data.download(\"gaincal.test.zarr\", \"data\")"
   ]
  },
  {
   "cell_type": "code",
   "execution_count": 4,
   "id": "d9493256-8a80-4bee-ae5e-c4145627b157",
   "metadata": {},
   "outputs": [
    {
     "data": {
      "text/html": [
       "<div>\n",
       "<style scoped>\n",
       "    .dataframe tbody tr th:only-of-type {\n",
       "        vertical-align: middle;\n",
       "    }\n",
       "\n",
       "    .dataframe tbody tr th {\n",
       "        vertical-align: top;\n",
       "    }\n",
       "\n",
       "    .dataframe thead th {\n",
       "        text-align: right;\n",
       "    }\n",
       "</style>\n",
       "<table border=\"1\" class=\"dataframe\">\n",
       "  <thead>\n",
       "    <tr style=\"text-align: right;\">\n",
       "      <th></th>\n",
       "      <th>name</th>\n",
       "      <th>intents</th>\n",
       "      <th>shape</th>\n",
       "      <th>polarization</th>\n",
       "      <th>scan_number</th>\n",
       "      <th>spw_name</th>\n",
       "      <th>field_name</th>\n",
       "      <th>source_name</th>\n",
       "      <th>line_name</th>\n",
       "      <th>field_coords</th>\n",
       "      <th>start_frequency</th>\n",
       "      <th>end_frequency</th>\n",
       "    </tr>\n",
       "  </thead>\n",
       "  <tbody>\n",
       "    <tr>\n",
       "      <th>0</th>\n",
       "      <td>gaincaltest2_0</td>\n",
       "      <td>[CALIBRATE_DELAY#ON_SOURCE, CALIBRATE_PHASE#ON...</td>\n",
       "      <td>(957, 45, 8, 4)</td>\n",
       "      <td>[XX, XY, YX, YY]</td>\n",
       "      <td>[2, 4, 6, 9, 11, 14, 16, 18, 21, 23, 26]</td>\n",
       "      <td>X0000000000#ALMA_RB_03#BB_1#SW-01#FULL_RES_0</td>\n",
       "      <td>[J2255-3500_0]</td>\n",
       "      <td>[J2255-3500_0]</td>\n",
       "      <td>[]</td>\n",
       "      <td>[icrs, 22h55m57.68s, -35d00m00.00s]</td>\n",
       "      <td>8.607155e+10</td>\n",
       "      <td>8.629030e+10</td>\n",
       "    </tr>\n",
       "    <tr>\n",
       "      <th>3</th>\n",
       "      <td>gaincaltest2_2</td>\n",
       "      <td>[CALIBRATE_DELAY#ON_SOURCE, CALIBRATE_PHASE#ON...</td>\n",
       "      <td>(957, 45, 8, 4)</td>\n",
       "      <td>[XX, XY, YX, YY]</td>\n",
       "      <td>[2, 4, 6, 9, 11, 14, 16, 18, 21, 23, 26]</td>\n",
       "      <td>X0000000000#ALMA_RB_03#BB_2#SW-01#FULL_RES_1</td>\n",
       "      <td>[J2255-3500_0]</td>\n",
       "      <td>[J2255-3500_0]</td>\n",
       "      <td>[]</td>\n",
       "      <td>[icrs, 22h55m57.68s, -35d00m00.00s]</td>\n",
       "      <td>8.794655e+10</td>\n",
       "      <td>8.816530e+10</td>\n",
       "    </tr>\n",
       "    <tr>\n",
       "      <th>2</th>\n",
       "      <td>gaincaltest2_4</td>\n",
       "      <td>[CALIBRATE_DELAY#ON_SOURCE, CALIBRATE_PHASE#ON...</td>\n",
       "      <td>(957, 45, 8, 4)</td>\n",
       "      <td>[XX, XY, YX, YY]</td>\n",
       "      <td>[2, 4, 6, 9, 11, 14, 16, 18, 21, 23, 26]</td>\n",
       "      <td>X0000000000#ALMA_RB_03#BB_3#SW-01#FULL_RES_2</td>\n",
       "      <td>[J2255-3500_0]</td>\n",
       "      <td>[J2255-3500_0]</td>\n",
       "      <td>[]</td>\n",
       "      <td>[icrs, 22h55m57.68s, -35d00m00.00s]</td>\n",
       "      <td>9.632156e+10</td>\n",
       "      <td>9.654030e+10</td>\n",
       "    </tr>\n",
       "    <tr>\n",
       "      <th>1</th>\n",
       "      <td>gaincaltest2_6</td>\n",
       "      <td>[CALIBRATE_DELAY#ON_SOURCE, CALIBRATE_PHASE#ON...</td>\n",
       "      <td>(957, 45, 8, 4)</td>\n",
       "      <td>[XX, XY, YX, YY]</td>\n",
       "      <td>[2, 4, 6, 9, 11, 14, 16, 18, 21, 23, 26]</td>\n",
       "      <td>X0000000000#ALMA_RB_03#BB_4#SW-01#FULL_RES_3</td>\n",
       "      <td>[J2255-3500_0]</td>\n",
       "      <td>[J2255-3500_0]</td>\n",
       "      <td>[]</td>\n",
       "      <td>[icrs, 22h55m57.68s, -35d00m00.00s]</td>\n",
       "      <td>9.819656e+10</td>\n",
       "      <td>9.841530e+10</td>\n",
       "    </tr>\n",
       "  </tbody>\n",
       "</table>\n",
       "</div>"
      ],
      "text/plain": [
       "             name                                            intents  \\\n",
       "0  gaincaltest2_0  [CALIBRATE_DELAY#ON_SOURCE, CALIBRATE_PHASE#ON...   \n",
       "3  gaincaltest2_2  [CALIBRATE_DELAY#ON_SOURCE, CALIBRATE_PHASE#ON...   \n",
       "2  gaincaltest2_4  [CALIBRATE_DELAY#ON_SOURCE, CALIBRATE_PHASE#ON...   \n",
       "1  gaincaltest2_6  [CALIBRATE_DELAY#ON_SOURCE, CALIBRATE_PHASE#ON...   \n",
       "\n",
       "             shape      polarization  \\\n",
       "0  (957, 45, 8, 4)  [XX, XY, YX, YY]   \n",
       "3  (957, 45, 8, 4)  [XX, XY, YX, YY]   \n",
       "2  (957, 45, 8, 4)  [XX, XY, YX, YY]   \n",
       "1  (957, 45, 8, 4)  [XX, XY, YX, YY]   \n",
       "\n",
       "                                scan_number  \\\n",
       "0  [2, 4, 6, 9, 11, 14, 16, 18, 21, 23, 26]   \n",
       "3  [2, 4, 6, 9, 11, 14, 16, 18, 21, 23, 26]   \n",
       "2  [2, 4, 6, 9, 11, 14, 16, 18, 21, 23, 26]   \n",
       "1  [2, 4, 6, 9, 11, 14, 16, 18, 21, 23, 26]   \n",
       "\n",
       "                                       spw_name      field_name  \\\n",
       "0  X0000000000#ALMA_RB_03#BB_1#SW-01#FULL_RES_0  [J2255-3500_0]   \n",
       "3  X0000000000#ALMA_RB_03#BB_2#SW-01#FULL_RES_1  [J2255-3500_0]   \n",
       "2  X0000000000#ALMA_RB_03#BB_3#SW-01#FULL_RES_2  [J2255-3500_0]   \n",
       "1  X0000000000#ALMA_RB_03#BB_4#SW-01#FULL_RES_3  [J2255-3500_0]   \n",
       "\n",
       "      source_name line_name                         field_coords  \\\n",
       "0  [J2255-3500_0]        []  [icrs, 22h55m57.68s, -35d00m00.00s]   \n",
       "3  [J2255-3500_0]        []  [icrs, 22h55m57.68s, -35d00m00.00s]   \n",
       "2  [J2255-3500_0]        []  [icrs, 22h55m57.68s, -35d00m00.00s]   \n",
       "1  [J2255-3500_0]        []  [icrs, 22h55m57.68s, -35d00m00.00s]   \n",
       "\n",
       "   start_frequency  end_frequency  \n",
       "0     8.607155e+10   8.629030e+10  \n",
       "3     8.794655e+10   8.816530e+10  \n",
       "2     9.632156e+10   9.654030e+10  \n",
       "1     9.819656e+10   9.841530e+10  "
      ]
     },
     "execution_count": 4,
     "metadata": {},
     "output_type": "execute_result"
    }
   ],
   "source": [
    "ps = ms.open_processing_set(\"data/gaincaltest2.ps.zarr\")\n",
    "\n",
    "sub_ps = ps.sel(intents=\"CALIBRATE_DELAY#ON_SOURCE\", scan_number=2)\n",
    "sub_ps.summary()"
   ]
  },
  {
   "cell_type": "code",
   "execution_count": 5,
   "id": "0613dde0-351b-4c16-a775-206029bb91ae",
   "metadata": {},
   "outputs": [],
   "source": [
    "dataset = sub_ps[\"gaincaltest2_0\"]"
   ]
  },
  {
   "cell_type": "code",
   "execution_count": 6,
   "id": "79e116f8-09d8-4151-b30a-ada716b467f3",
   "metadata": {},
   "outputs": [
    {
     "data": {
      "text/plain": [
       "(45, 8, 4)"
      ]
     },
     "execution_count": 6,
     "metadata": {},
     "output_type": "execute_result"
    }
   ],
   "source": [
    "V = dataset.VISIBILITY.mean(dim=\"time\").data.compute()\n",
    "V.shape"
   ]
  },
  {
   "cell_type": "code",
   "execution_count": 7,
   "id": "4dc7448f-20ab-4eca-9e8c-11eba2e971ca",
   "metadata": {},
   "outputs": [
    {
     "data": {
      "text/plain": [
       "(957, 45, 8, 4)"
      ]
     },
     "execution_count": 7,
     "metadata": {},
     "output_type": "execute_result"
    }
   ],
   "source": [
    "s = dataset.VISIBILITY.shape\n",
    "s"
   ]
  },
  {
   "cell_type": "raw",
   "id": "73177abc-0b35-43d7-a0ed-bcafb9306557",
   "metadata": {},
   "source": [
    "def from_vis(dataset):\n",
    "    shape = dataset.VISIBILITY.shape\n",
    "\n",
    "    # There should be a gain value for each independent antenna. Here we choose antennai names but either\n",
    "    # would work fine.\n",
    "    n_parameters = np.unique(dataset.baseline_antenna1_name).shape[0]\n",
    "    \n",
    "    \n",
    "    identity = np.identity(n_parameters, dtype=np.complex64)\n",
    "\n",
    "    #return np.tile(identity, reps=[*shape, 1, 1])"
   ]
  },
  {
   "cell_type": "code",
   "execution_count": 8,
   "id": "0ce2493e-0c7e-4e6f-9711-5b63df1973ef",
   "metadata": {},
   "outputs": [],
   "source": [
    "gain_jones = cv.jones.GainJones()"
   ]
  },
  {
   "cell_type": "code",
   "execution_count": 9,
   "id": "e62cd1f3-36ce-44d0-8132-a31cdd4f4fa8",
   "metadata": {},
   "outputs": [],
   "source": [
    "G = gain_jones.from_visibility(dataset=dataset)"
   ]
  },
  {
   "cell_type": "code",
   "execution_count": 10,
   "id": "6403894b-a634-45a8-9219-05aed71457f1",
   "metadata": {},
   "outputs": [
    {
     "data": {
      "text/plain": [
       "(957, 45, 8, 2, 2)"
      ]
     },
     "execution_count": 10,
     "metadata": {},
     "output_type": "execute_result"
    }
   ],
   "source": [
    "G.matrix.shape"
   ]
  },
  {
   "cell_type": "code",
   "execution_count": 11,
   "id": "7ccb777d-9509-4d19-a2c1-77d53c9564f9",
   "metadata": {},
   "outputs": [
    {
     "data": {
      "text/plain": [
       "(957, 8, 36)"
      ]
     },
     "execution_count": 11,
     "metadata": {},
     "output_type": "execute_result"
    }
   ],
   "source": [
    "G.parameters.shape"
   ]
  },
  {
   "cell_type": "code",
   "execution_count": 12,
   "id": "3ee0983f-5a19-4001-973c-c88216caa061",
   "metadata": {},
   "outputs": [
    {
     "data": {
      "text/plain": [
       "(45, 8, 2, 2)"
      ]
     },
     "execution_count": 12,
     "metadata": {},
     "output_type": "execute_result"
    }
   ],
   "source": [
    "g = G.matrix.mean(axis=0)\n",
    "g.shape"
   ]
  },
  {
   "cell_type": "code",
   "execution_count": 13,
   "id": "bf6e3883-7923-4a5f-be89-ac0244ef8c17",
   "metadata": {},
   "outputs": [],
   "source": [
    "# This should all be done within the equivalent of VisEquation\n",
    "#v = V[:, 0, 0]\n",
    "v = V\n",
    "\n",
    "index_a, ant = cv.math.tools.encode(dataset.baseline_antenna1_name.to_numpy())\n",
    "index_b, _ = cv.math.tools.encode(dataset.baseline_antenna2_name.to_numpy())\n",
    "\n",
    "v_ = cv.math.tools.build_visibility_matrix(array=v, index_a=index_a, index_b=index_b)"
   ]
  },
  {
   "cell_type": "code",
   "execution_count": 14,
   "id": "273a36a3-7f9d-4bfe-93de-3ac5888adab5",
   "metadata": {},
   "outputs": [
    {
     "data": {
      "text/plain": [
       "(8, 4, 9, 9)"
      ]
     },
     "execution_count": 14,
     "metadata": {},
     "output_type": "execute_result"
    }
   ],
   "source": [
    "v_.shape"
   ]
  },
  {
   "cell_type": "code",
   "execution_count": 15,
   "id": "2ff5cc79-02c8-49a0-9016-c7113a657226",
   "metadata": {},
   "outputs": [],
   "source": [
    "solver = cv.math.solver.least_squares.LeastSquaresSolver()"
   ]
  },
  {
   "cell_type": "code",
   "execution_count": null,
   "id": "e4db2435-76f6-4203-af7b-b78e69baaec0",
   "metadata": {},
   "outputs": [],
   "source": []
  },
  {
   "cell_type": "code",
   "execution_count": 16,
   "id": "99704e1f-e800-40bf-a0e4-5d4715e011b3",
   "metadata": {},
   "outputs": [
    {
     "ename": "ValueError",
     "evalue": "operands could not be broadcast together with shapes (9,9) (8,4,9) ",
     "output_type": "error",
     "traceback": [
      "\u001b[0;31m---------------------------------------------------------------------------\u001b[0m",
      "\u001b[0;31mValueError\u001b[0m                                Traceback (most recent call last)",
      "Cell \u001b[0;32mIn[16], line 1\u001b[0m\n\u001b[0;32m----> 1\u001b[0m gain_solutions \u001b[38;5;241m=\u001b[39m \u001b[43msolver\u001b[49m\u001b[38;5;241;43m.\u001b[39;49m\u001b[43msolve\u001b[49m\u001b[43m(\u001b[49m\n\u001b[1;32m      2\u001b[0m \u001b[43m    \u001b[49m\u001b[43mvis\u001b[49m\u001b[38;5;241;43m=\u001b[39;49m\u001b[43mv_\u001b[49m\u001b[43m,\u001b[49m\n\u001b[1;32m      3\u001b[0m \u001b[43m    \u001b[49m\u001b[43miterations\u001b[49m\u001b[38;5;241;43m=\u001b[39;49m\u001b[38;5;241;43m40\u001b[39;49m\u001b[43m,\u001b[49m\n\u001b[1;32m      4\u001b[0m \u001b[43m    \u001b[49m\u001b[43moptimizer\u001b[49m\u001b[38;5;241;43m=\u001b[39;49m\u001b[43mcv\u001b[49m\u001b[38;5;241;43m.\u001b[39;49m\u001b[43mmath\u001b[49m\u001b[38;5;241;43m.\u001b[39;49m\u001b[43moptimizer\u001b[49m\u001b[38;5;241;43m.\u001b[39;49m\u001b[43mMeanSquaredError\u001b[49m\u001b[43m(\u001b[49m\u001b[43malpha\u001b[49m\u001b[38;5;241;43m=\u001b[39;49m\u001b[38;5;241;43m0.2\u001b[39;49m\u001b[43m)\u001b[49m\u001b[43m,\u001b[49m\n\u001b[1;32m      5\u001b[0m \u001b[43m    \u001b[49m\u001b[43mstopping\u001b[49m\u001b[38;5;241;43m=\u001b[39;49m\u001b[38;5;241;43m1e-4\u001b[39;49m\n\u001b[1;32m      6\u001b[0m \u001b[43m)\u001b[49m\n",
      "File \u001b[0;32m/export/home/fornax/Development/calviper/src/calviper/math/solver/least_squares.py:110\u001b[0m, in \u001b[0;36mLeastSquaresSolver.solve\u001b[0;34m(self, vis, iterations, optimizer, stopping)\u001b[0m\n\u001b[1;32m     99\u001b[0m gradient_ \u001b[38;5;241m=\u001b[39m optimizer\u001b[38;5;241m.\u001b[39mgradient(\n\u001b[1;32m    100\u001b[0m     target\u001b[38;5;241m=\u001b[39mvis,\n\u001b[1;32m    101\u001b[0m     model\u001b[38;5;241m=\u001b[39m\u001b[38;5;28mself\u001b[39m\u001b[38;5;241m.\u001b[39mmodel_,\n\u001b[1;32m    102\u001b[0m     parameter\u001b[38;5;241m=\u001b[39m\u001b[38;5;28mself\u001b[39m\u001b[38;5;241m.\u001b[39mparameter\n\u001b[1;32m    103\u001b[0m )\n\u001b[1;32m    105\u001b[0m \u001b[38;5;28mself\u001b[39m\u001b[38;5;241m.\u001b[39mparameter \u001b[38;5;241m=\u001b[39m optimizer\u001b[38;5;241m.\u001b[39mstep(\n\u001b[1;32m    106\u001b[0m     parameter\u001b[38;5;241m=\u001b[39m\u001b[38;5;28mself\u001b[39m\u001b[38;5;241m.\u001b[39mparameter,\n\u001b[1;32m    107\u001b[0m     gradient\u001b[38;5;241m=\u001b[39mgradient_\n\u001b[1;32m    108\u001b[0m )\n\u001b[0;32m--> 110\u001b[0m y_pred \u001b[38;5;241m=\u001b[39m \u001b[38;5;28;43mself\u001b[39;49m\u001b[38;5;241;43m.\u001b[39;49m\u001b[43mpredict\u001b[49m\u001b[43m(\u001b[49m\u001b[43m)\u001b[49m\n\u001b[1;32m    112\u001b[0m \u001b[38;5;28mself\u001b[39m\u001b[38;5;241m.\u001b[39mlosses\u001b[38;5;241m.\u001b[39mappend(optimizer\u001b[38;5;241m.\u001b[39mloss(y_pred, vis))\n\u001b[1;32m    114\u001b[0m \u001b[38;5;28;01mif\u001b[39;00m n \u001b[38;5;241m%\u001b[39m (iterations \u001b[38;5;241m/\u001b[39m\u001b[38;5;241m/\u001b[39m \u001b[38;5;241m10\u001b[39m) \u001b[38;5;241m==\u001b[39m \u001b[38;5;241m0\u001b[39m:\n",
      "File \u001b[0;32m/export/home/fornax/Development/calviper/src/calviper/math/solver/least_squares.py:65\u001b[0m, in \u001b[0;36mLeastSquaresSolver.predict\u001b[0;34m(self)\u001b[0m\n\u001b[1;32m     62\u001b[0m \u001b[38;5;28;01mdef\u001b[39;00m\u001b[38;5;250m \u001b[39m\u001b[38;5;21mpredict\u001b[39m(\u001b[38;5;28mself\u001b[39m):\n\u001b[1;32m     64\u001b[0m     n_channel, n_polarizations, n_antennas \u001b[38;5;241m=\u001b[39m \u001b[38;5;28mself\u001b[39m\u001b[38;5;241m.\u001b[39mparameter\u001b[38;5;241m.\u001b[39mshape\n\u001b[0;32m---> 65\u001b[0m     parameter_matrix_ \u001b[38;5;241m=\u001b[39m \u001b[43mnp\u001b[49m\u001b[38;5;241;43m.\u001b[39;49m\u001b[43midentity\u001b[49m\u001b[43m(\u001b[49m\u001b[43mn_antennas\u001b[49m\u001b[43m)\u001b[49m\u001b[43m \u001b[49m\u001b[38;5;241;43m*\u001b[39;49m\u001b[43m \u001b[49m\u001b[38;5;28;43mself\u001b[39;49m\u001b[38;5;241;43m.\u001b[39;49m\u001b[43mparameter\u001b[49m\n\u001b[1;32m     66\u001b[0m     cache_ \u001b[38;5;241m=\u001b[39m np\u001b[38;5;241m.\u001b[39mdot(\u001b[38;5;28mself\u001b[39m\u001b[38;5;241m.\u001b[39mmodel_, parameter_matrix_)\n\u001b[1;32m     68\u001b[0m     \u001b[38;5;28;01mreturn\u001b[39;00m np\u001b[38;5;241m.\u001b[39mdot(parameter_matrix_\u001b[38;5;241m.\u001b[39mconj(), cache_)\n",
      "\u001b[0;31mValueError\u001b[0m: operands could not be broadcast together with shapes (9,9) (8,4,9) "
     ]
    }
   ],
   "source": [
    "gain_solutions = solver.solve(\n",
    "    vis=v_,\n",
    "    iterations=40,\n",
    "    optimizer=cv.math.optimizer.MeanSquaredError(alpha=0.2),\n",
    "    stopping=1e-4\n",
    ")"
   ]
  },
  {
   "cell_type": "code",
   "execution_count": null,
   "id": "4dba3ecf-0693-4462-9956-3a4e9541ba77",
   "metadata": {},
   "outputs": [],
   "source": [
    "t = np.linspace(1, len(solver.losses), len(solver.losses))\n",
    "\n",
    "plt.scatter(solver.losses, t)"
   ]
  },
  {
   "cell_type": "code",
   "execution_count": null,
   "id": "1afafaab-eef7-4960-b6b9-31de7e12579f",
   "metadata": {},
   "outputs": [],
   "source": [
    "# Gain solutions\n",
    "\n",
    "solver.parameter"
   ]
  },
  {
   "cell_type": "code",
   "execution_count": null,
   "id": "a268274a-56b4-4fd3-b3a7-fb0704abe7c1",
   "metadata": {},
   "outputs": [],
   "source": [
    "solver.parameter.shape"
   ]
  },
  {
   "cell_type": "code",
   "execution_count": 19,
   "id": "3ef8f034-65d3-439c-a7c7-e9142fcf148b",
   "metadata": {},
   "outputs": [],
   "source": [
    "x = np.linspace(1, 3, 3)\n",
    "X = np.tile(x, [3, 2, 1])"
   ]
  },
  {
   "cell_type": "code",
   "execution_count": 21,
   "id": "b303fecf-8ac7-4869-a6c3-a0b0196b9582",
   "metadata": {},
   "outputs": [],
   "source": [
    "m = np.ones((3, 3))\n",
    "\n",
    "I = np.ones((3, 3))\n",
    "np.fill_diagonal(I, 0.)\n",
    "\n",
    "Z = np.tile(I, [3, 2, 1, 1])"
   ]
  }
 ],
 "metadata": {
  "kernelspec": {
   "display_name": "Python 3 (ipykernel)",
   "language": "python",
   "name": "python3"
  },
  "language_info": {
   "codemirror_mode": {
    "name": "ipython",
    "version": 3
   },
   "file_extension": ".py",
   "mimetype": "text/x-python",
   "name": "python",
   "nbconvert_exporter": "python",
   "pygments_lexer": "ipython3",
   "version": "3.9.19"
  }
 },
 "nbformat": 4,
 "nbformat_minor": 5
}
