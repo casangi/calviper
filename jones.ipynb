{
 "cells": [
  {
   "cell_type": "code",
   "execution_count": 1,
   "id": "5076dee4-776f-427e-b790-ce440f171cbe",
   "metadata": {},
   "outputs": [],
   "source": [
    "!python -m pip install -e . >> /dev/null"
   ]
  },
  {
   "cell_type": "code",
   "execution_count": 2,
   "id": "b75de828-c739-476f-aad5-a6b01e53aef7",
   "metadata": {},
   "outputs": [],
   "source": [
    "import toolviper\n",
    "import xradio\n",
    "import pathlib\n",
    "import numba\n",
    "\n",
    "import numpy as np\n",
    "import pandas as pd\n",
    "import calviper as cv\n",
    "import matplotlib.pyplot as plt\n",
    "\n",
    "from xradio import measurement_set as ms"
   ]
  },
  {
   "cell_type": "code",
   "execution_count": 3,
   "id": "6ed9a29d-367e-46ec-ab9d-ac55cfcfad6e",
   "metadata": {},
   "outputs": [],
   "source": [
    "if not pathlib.Path.cwd().joinpath(\"data/gaincaltest2.ps.zarr\").exists():\n",
    "    toolviper.utils.data.download(\"gaincal.test.zarr\", \"data\")"
   ]
  },
  {
   "cell_type": "code",
   "execution_count": 4,
   "id": "d9493256-8a80-4bee-ae5e-c4145627b157",
   "metadata": {},
   "outputs": [
    {
     "data": {
      "text/html": [
       "<div>\n",
       "<style scoped>\n",
       "    .dataframe tbody tr th:only-of-type {\n",
       "        vertical-align: middle;\n",
       "    }\n",
       "\n",
       "    .dataframe tbody tr th {\n",
       "        vertical-align: top;\n",
       "    }\n",
       "\n",
       "    .dataframe thead th {\n",
       "        text-align: right;\n",
       "    }\n",
       "</style>\n",
       "<table border=\"1\" class=\"dataframe\">\n",
       "  <thead>\n",
       "    <tr style=\"text-align: right;\">\n",
       "      <th></th>\n",
       "      <th>name</th>\n",
       "      <th>intents</th>\n",
       "      <th>shape</th>\n",
       "      <th>polarization</th>\n",
       "      <th>scan_number</th>\n",
       "      <th>spw_name</th>\n",
       "      <th>field_name</th>\n",
       "      <th>source_name</th>\n",
       "      <th>line_name</th>\n",
       "      <th>field_coords</th>\n",
       "      <th>start_frequency</th>\n",
       "      <th>end_frequency</th>\n",
       "    </tr>\n",
       "  </thead>\n",
       "  <tbody>\n",
       "    <tr>\n",
       "      <th>1</th>\n",
       "      <td>gaincaltest2_0</td>\n",
       "      <td>[CALIBRATE_DELAY#ON_SOURCE, CALIBRATE_PHASE#ON...</td>\n",
       "      <td>(957, 45, 8, 4)</td>\n",
       "      <td>[XX, XY, YX, YY]</td>\n",
       "      <td>[2, 4, 6, 9, 11, 14, 16, 18, 21, 23, 26]</td>\n",
       "      <td>X0000000000#ALMA_RB_03#BB_1#SW-01#FULL_RES_0</td>\n",
       "      <td>[J2255-3500_0]</td>\n",
       "      <td>[J2255-3500_0]</td>\n",
       "      <td>[]</td>\n",
       "      <td>[icrs, 22h55m57.68s, -35d00m00.00s]</td>\n",
       "      <td>8.607155e+10</td>\n",
       "      <td>8.629030e+10</td>\n",
       "    </tr>\n",
       "    <tr>\n",
       "      <th>0</th>\n",
       "      <td>gaincaltest2_2</td>\n",
       "      <td>[CALIBRATE_DELAY#ON_SOURCE, CALIBRATE_PHASE#ON...</td>\n",
       "      <td>(957, 45, 8, 4)</td>\n",
       "      <td>[XX, XY, YX, YY]</td>\n",
       "      <td>[2, 4, 6, 9, 11, 14, 16, 18, 21, 23, 26]</td>\n",
       "      <td>X0000000000#ALMA_RB_03#BB_2#SW-01#FULL_RES_1</td>\n",
       "      <td>[J2255-3500_0]</td>\n",
       "      <td>[J2255-3500_0]</td>\n",
       "      <td>[]</td>\n",
       "      <td>[icrs, 22h55m57.68s, -35d00m00.00s]</td>\n",
       "      <td>8.794655e+10</td>\n",
       "      <td>8.816530e+10</td>\n",
       "    </tr>\n",
       "    <tr>\n",
       "      <th>3</th>\n",
       "      <td>gaincaltest2_4</td>\n",
       "      <td>[CALIBRATE_DELAY#ON_SOURCE, CALIBRATE_PHASE#ON...</td>\n",
       "      <td>(957, 45, 8, 4)</td>\n",
       "      <td>[XX, XY, YX, YY]</td>\n",
       "      <td>[2, 4, 6, 9, 11, 14, 16, 18, 21, 23, 26]</td>\n",
       "      <td>X0000000000#ALMA_RB_03#BB_3#SW-01#FULL_RES_2</td>\n",
       "      <td>[J2255-3500_0]</td>\n",
       "      <td>[J2255-3500_0]</td>\n",
       "      <td>[]</td>\n",
       "      <td>[icrs, 22h55m57.68s, -35d00m00.00s]</td>\n",
       "      <td>9.632156e+10</td>\n",
       "      <td>9.654030e+10</td>\n",
       "    </tr>\n",
       "    <tr>\n",
       "      <th>2</th>\n",
       "      <td>gaincaltest2_6</td>\n",
       "      <td>[CALIBRATE_DELAY#ON_SOURCE, CALIBRATE_PHASE#ON...</td>\n",
       "      <td>(957, 45, 8, 4)</td>\n",
       "      <td>[XX, XY, YX, YY]</td>\n",
       "      <td>[2, 4, 6, 9, 11, 14, 16, 18, 21, 23, 26]</td>\n",
       "      <td>X0000000000#ALMA_RB_03#BB_4#SW-01#FULL_RES_3</td>\n",
       "      <td>[J2255-3500_0]</td>\n",
       "      <td>[J2255-3500_0]</td>\n",
       "      <td>[]</td>\n",
       "      <td>[icrs, 22h55m57.68s, -35d00m00.00s]</td>\n",
       "      <td>9.819656e+10</td>\n",
       "      <td>9.841530e+10</td>\n",
       "    </tr>\n",
       "  </tbody>\n",
       "</table>\n",
       "</div>"
      ],
      "text/plain": [
       "             name                                            intents  \\\n",
       "1  gaincaltest2_0  [CALIBRATE_DELAY#ON_SOURCE, CALIBRATE_PHASE#ON...   \n",
       "0  gaincaltest2_2  [CALIBRATE_DELAY#ON_SOURCE, CALIBRATE_PHASE#ON...   \n",
       "3  gaincaltest2_4  [CALIBRATE_DELAY#ON_SOURCE, CALIBRATE_PHASE#ON...   \n",
       "2  gaincaltest2_6  [CALIBRATE_DELAY#ON_SOURCE, CALIBRATE_PHASE#ON...   \n",
       "\n",
       "             shape      polarization  \\\n",
       "1  (957, 45, 8, 4)  [XX, XY, YX, YY]   \n",
       "0  (957, 45, 8, 4)  [XX, XY, YX, YY]   \n",
       "3  (957, 45, 8, 4)  [XX, XY, YX, YY]   \n",
       "2  (957, 45, 8, 4)  [XX, XY, YX, YY]   \n",
       "\n",
       "                                scan_number  \\\n",
       "1  [2, 4, 6, 9, 11, 14, 16, 18, 21, 23, 26]   \n",
       "0  [2, 4, 6, 9, 11, 14, 16, 18, 21, 23, 26]   \n",
       "3  [2, 4, 6, 9, 11, 14, 16, 18, 21, 23, 26]   \n",
       "2  [2, 4, 6, 9, 11, 14, 16, 18, 21, 23, 26]   \n",
       "\n",
       "                                       spw_name      field_name  \\\n",
       "1  X0000000000#ALMA_RB_03#BB_1#SW-01#FULL_RES_0  [J2255-3500_0]   \n",
       "0  X0000000000#ALMA_RB_03#BB_2#SW-01#FULL_RES_1  [J2255-3500_0]   \n",
       "3  X0000000000#ALMA_RB_03#BB_3#SW-01#FULL_RES_2  [J2255-3500_0]   \n",
       "2  X0000000000#ALMA_RB_03#BB_4#SW-01#FULL_RES_3  [J2255-3500_0]   \n",
       "\n",
       "      source_name line_name                         field_coords  \\\n",
       "1  [J2255-3500_0]        []  [icrs, 22h55m57.68s, -35d00m00.00s]   \n",
       "0  [J2255-3500_0]        []  [icrs, 22h55m57.68s, -35d00m00.00s]   \n",
       "3  [J2255-3500_0]        []  [icrs, 22h55m57.68s, -35d00m00.00s]   \n",
       "2  [J2255-3500_0]        []  [icrs, 22h55m57.68s, -35d00m00.00s]   \n",
       "\n",
       "   start_frequency  end_frequency  \n",
       "1     8.607155e+10   8.629030e+10  \n",
       "0     8.794655e+10   8.816530e+10  \n",
       "3     9.632156e+10   9.654030e+10  \n",
       "2     9.819656e+10   9.841530e+10  "
      ]
     },
     "execution_count": 4,
     "metadata": {},
     "output_type": "execute_result"
    }
   ],
   "source": [
    "ps = ms.open_processing_set(\"data/gaincaltest2.ps.zarr\")\n",
    "\n",
    "sub_ps = ps.sel(intents=\"CALIBRATE_DELAY#ON_SOURCE\", scan_number=2)\n",
    "sub_ps.summary()"
   ]
  },
  {
   "cell_type": "code",
   "execution_count": 5,
   "id": "0613dde0-351b-4c16-a775-206029bb91ae",
   "metadata": {},
   "outputs": [],
   "source": [
    "dataset = sub_ps[\"gaincaltest2_0\"]"
   ]
  },
  {
   "cell_type": "code",
   "execution_count": 6,
   "id": "79e116f8-09d8-4151-b30a-ada716b467f3",
   "metadata": {},
   "outputs": [],
   "source": [
    "V = dataset.VISIBILITY.mean(dim=\"time\").data.compute()"
   ]
  },
  {
   "cell_type": "code",
   "execution_count": 7,
   "id": "4dc7448f-20ab-4eca-9e8c-11eba2e971ca",
   "metadata": {},
   "outputs": [
    {
     "data": {
      "text/plain": [
       "(957, 45, 8, 4)"
      ]
     },
     "execution_count": 7,
     "metadata": {},
     "output_type": "execute_result"
    }
   ],
   "source": [
    "s = dataset.VISIBILITY.shape\n",
    "s"
   ]
  },
  {
   "cell_type": "raw",
   "id": "73177abc-0b35-43d7-a0ed-bcafb9306557",
   "metadata": {},
   "source": [
    "def from_vis(dataset):\n",
    "    shape = dataset.VISIBILITY.shape\n",
    "\n",
    "    # There should be a gain value for each independent antenna. Here we choose antennai names but either\n",
    "    # would work fine.\n",
    "    n_parameters = np.unique(dataset.baseline_antenna1_name).shape[0]\n",
    "    \n",
    "    \n",
    "    identity = np.identity(n_parameters, dtype=np.complex64)\n",
    "\n",
    "    #return np.tile(identity, reps=[*shape, 1, 1])"
   ]
  },
  {
   "cell_type": "code",
   "execution_count": 8,
   "id": "0ce2493e-0c7e-4e6f-9711-5b63df1973ef",
   "metadata": {},
   "outputs": [],
   "source": [
    "gain_jones = cv.jones.GainJones()"
   ]
  },
  {
   "cell_type": "code",
   "execution_count": 9,
   "id": "e62cd1f3-36ce-44d0-8132-a31cdd4f4fa8",
   "metadata": {},
   "outputs": [],
   "source": [
    "G = gain_jones.from_visibility(dataset=dataset)"
   ]
  },
  {
   "cell_type": "code",
   "execution_count": 10,
   "id": "6403894b-a634-45a8-9219-05aed71457f1",
   "metadata": {},
   "outputs": [
    {
     "data": {
      "text/plain": [
       "(957, 45, 8, 2, 2)"
      ]
     },
     "execution_count": 10,
     "metadata": {},
     "output_type": "execute_result"
    }
   ],
   "source": [
    "G.matrix.shape"
   ]
  },
  {
   "cell_type": "code",
   "execution_count": 11,
   "id": "7ccb777d-9509-4d19-a2c1-77d53c9564f9",
   "metadata": {},
   "outputs": [
    {
     "data": {
      "text/plain": [
       "(957, 8, 36)"
      ]
     },
     "execution_count": 11,
     "metadata": {},
     "output_type": "execute_result"
    }
   ],
   "source": [
    "G.parameters.shape"
   ]
  },
  {
   "cell_type": "code",
   "execution_count": 12,
   "id": "3ee0983f-5a19-4001-973c-c88216caa061",
   "metadata": {},
   "outputs": [],
   "source": [
    "G.matrix = G.matrix.mean(axis=0)"
   ]
  },
  {
   "cell_type": "code",
   "execution_count": 13,
   "id": "bf6e3883-7923-4a5f-be89-ac0244ef8c17",
   "metadata": {},
   "outputs": [],
   "source": [
    "# This should all be done within teh equivelent of VisEquation\n",
    "v = V[:, 0, 0]\n",
    "\n",
    "index_a, ant = cv.math.tools.encode(dataset.baseline_antenna1_name.to_numpy())\n",
    "index_b, _ = cv.math.tools.encode(dataset.baseline_antenna2_name.to_numpy())\n",
    "\n",
    "V = cv.math.tools.build_visibility_matrix(array=v, index_a=index_a, index_b=index_b)"
   ]
  },
  {
   "cell_type": "code",
   "execution_count": null,
   "id": "467d3317-250f-4a98-8056-6615245700c3",
   "metadata": {},
   "outputs": [],
   "source": [
    "V.shape"
   ]
  },
  {
   "cell_type": "code",
   "execution_count": null,
   "id": "2ff5cc79-02c8-49a0-9016-c7113a657226",
   "metadata": {},
   "outputs": [],
   "source": [
    "solver = cv.math.solver.least_squares.LeastSquaresSolver()"
   ]
  },
  {
   "cell_type": "code",
   "execution_count": null,
   "id": "99704e1f-e800-40bf-a0e4-5d4715e011b3",
   "metadata": {},
   "outputs": [],
   "source": [
    "gain_solutions = solver.solve(\n",
    "    vis=V,\n",
    "    iterations=40,\n",
    "    optimizer=cv.math.optimizer.MeanSquaredError(alpha=0.2),\n",
    "    stopping=1e-4\n",
    ")"
   ]
  },
  {
   "cell_type": "code",
   "execution_count": null,
   "id": "4dba3ecf-0693-4462-9956-3a4e9541ba77",
   "metadata": {},
   "outputs": [],
   "source": [
    "t = np.linspace(1, len(solver.losses), len(solver.losses))\n",
    "\n",
    "plt.scatter(solver.losses, t)"
   ]
  },
  {
   "cell_type": "code",
   "execution_count": null,
   "id": "1afafaab-eef7-4960-b6b9-31de7e12579f",
   "metadata": {},
   "outputs": [],
   "source": [
    "# Gain solutions\n",
    "\n",
    "solver.parameter"
   ]
  },
  {
   "cell_type": "code",
   "execution_count": null,
   "id": "9ff6f0c6-e349-45bf-ad2d-48eddfab3e65",
   "metadata": {},
   "outputs": [],
   "source": [
    "G.matrix = G.matrix * solver.parameter"
   ]
  },
  {
   "cell_type": "code",
   "execution_count": null,
   "id": "3a47c317-419e-47b3-8743-ccfc45681723",
   "metadata": {},
   "outputs": [],
   "source": [
    "G_inv = np.linalg.inv(G.matrix)\n",
    "G_inv_H = np.linalg.inv(G.matrix.conj().T)"
   ]
  },
  {
   "cell_type": "code",
   "execution_count": null,
   "id": "1e33ec99-6df7-4e40-a23e-120a41635f40",
   "metadata": {},
   "outputs": [],
   "source": [
    "cache = np.matmul(V, G_inv_H)"
   ]
  },
  {
   "cell_type": "code",
   "execution_count": null,
   "id": "1772d75d-f507-4f73-ae95-b5bdb1aa7186",
   "metadata": {},
   "outputs": [],
   "source": [
    "T = np.matmul(G_inv, cache)"
   ]
  },
  {
   "cell_type": "code",
   "execution_count": null,
   "id": "3c9e9dad-d516-42f2-bcf5-99c7adaa97b2",
   "metadata": {},
   "outputs": [],
   "source": [
    "fig, ax = plt.subplots()\n",
    "\n",
    "rl = ax.imshow(T.real)\n",
    "plt.colorbar(rl)"
   ]
  },
  {
   "cell_type": "code",
   "execution_count": null,
   "id": "bc987450-b6fd-4cb7-8b82-48a365bd985a",
   "metadata": {},
   "outputs": [],
   "source": [
    "fig, ax = plt.subplots()\n",
    "\n",
    "im = ax.imshow(T.imag)\n",
    "plt.colorbar(im)"
   ]
  },
  {
   "cell_type": "code",
   "execution_count": null,
   "id": "b56446bd-ac61-4e55-8099-ce23e52044be",
   "metadata": {},
   "outputs": [],
   "source": [
    "P = np.array([[[1, 2, 3, 4], [5, 6, 7, 8]]])"
   ]
  },
  {
   "cell_type": "code",
   "execution_count": null,
   "id": "34a6b31c-4a7c-41cd-ba93-ff5763c183c5",
   "metadata": {},
   "outputs": [],
   "source": [
    "l = P.flatten().shape[0]\n",
    "\n",
    "np.identity(l)*P.flatten()"
   ]
  },
  {
   "cell_type": "code",
   "execution_count": null,
   "id": "2a112682-cf77-4afc-b560-818e41dfaae3",
   "metadata": {},
   "outputs": [],
   "source": [
    "p = ravel(P)\n",
    "p"
   ]
  },
  {
   "cell_type": "code",
   "execution_count": null,
   "id": "550aafce-28eb-4d66-8501-ffc13ce0c28c",
   "metadata": {},
   "outputs": [],
   "source": [
    "unravel(p)"
   ]
  },
  {
   "cell_type": "code",
   "execution_count": null,
   "id": "d0af44d0-30f8-43d5-8b98-be6ff4757950",
   "metadata": {},
   "outputs": [],
   "source": []
  }
 ],
 "metadata": {
  "kernelspec": {
   "display_name": "Python 3 (ipykernel)",
   "language": "python",
   "name": "python3"
  },
  "language_info": {
   "codemirror_mode": {
    "name": "ipython",
    "version": 3
   },
   "file_extension": ".py",
   "mimetype": "text/x-python",
   "name": "python",
   "nbconvert_exporter": "python",
   "pygments_lexer": "ipython3",
   "version": "3.10.16"
  }
 },
 "nbformat": 4,
 "nbformat_minor": 5
}
